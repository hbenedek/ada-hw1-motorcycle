{
 "cells": [
  {
   "cell_type": "markdown",
   "source": [
    "# Homework 1 (HW1)\n",
    "\n",
    "---\n",
    "By the end of this homework we expect you to be able to:\n",
    "1. Load data from different formats using [pandas](https://pandas.pydata.org/);\n",
    "2. Navigate the documentation of Python packages by yourself;\n",
    "3. Filter and tidy up noisy data sets;\n",
    "4. Aggregate your data in different (and hopefully helpful) ways; \n",
    "5. Create meaningful visualizations to analyze the data;\n",
    "6. Critically think and write about data;\n",
    "---\n",
    "\n",
    "## Important Dates\n",
    "\n",
    "- Homework release: Fri 8 Oct 2021\n",
    "- **Homework due**: Fri 22 Oct 2021, 23:59\n",
    "- Grade release: Fri 29 Oct 2021\n",
    "\n",
    "---\n",
    "\n",
    "##  Some rules\n",
    "\n",
    "1. You are allowed to use any built-in Python library that comes with Anaconda. If you want to use an external library, \n",
    "you may do so, but must justify your choice.\n",
    "2. Make sure you use the `data` folder provided in the repository in read-only mode. (Or alternatively, be sure you \n",
    "don’t change any of the files.)\n",
    "3. Be sure to provide a textual description of your thought process, the assumptions you made, the solution you \n",
    "implemented, and explanations for your answers. A notebook that only has code cells will not suffice.\n",
    "4. For questions containing the **/Discuss:/** prefix, answer not with code, but with a textual explanation\n",
    " (**in markdown**).\n",
    "5. Back up any hypotheses and claims with data, since this is an important aspect of the course.\n",
    "6. Please write all your comments in English, and use meaningful variable names in your code. Your repo should have a \n",
    "single notebook (plus the required data files) in the *master/main* branch. If there are multiple notebooks present, \n",
    "we will **not grade** anything.\n",
    "7. We will **not run your notebook for you**! Rather, we will grade it as is, which means that only the results \n",
    "contained in your evaluated code cells will be considered, and we will not see the results in unevaluated code cells. \n",
    "Thus, be sure to hand in a **fully-run and evaluated notebook**. In order to check whether everything looks as intended,\n",
    " you can check the rendered notebook on the GitHub website once you have pushed your solution there.\n",
    "8. In continuation to the previous point, interactive plots, such as those generated using `plotly`, should be \n",
    "**strictly avoided**!\n",
    "9. Make sure to print results or dataframes that confirm you have properly addressed the task.\n",
    "\n",
    "---\n",
    "\n",
    "## Context\n",
    "\n",
    "In this project, we are going to analyze data from an experiment about *honesty*. \n",
    "Oftentimes, we are asked to confirm our honest intentions by signing **at the end** of a document. \n",
    "For example, in tax returns or insurance policy forms, we are often asked to sign our names under a text that reads \n",
    "something like \"I hereby certify that the above statements are true and correct to the best of my knowledge.\"\n",
    "\n",
    "However, when individuals sign **after** lying in the form, they may not feel the need to correct the falsehoods they \n",
    "have reported. In that context, it could be that signing at **the beginning** rather than at the end of the document \n",
    "would decrease dishonesty, as those who are filling the form would be aware of the ethical requirements *before* they \n",
    "provide the information in the form.\n",
    "\n",
    "This intuition has led researchers to partner up with a motorcycle insurance company to run a randomized experiment. \n",
    "In this insurance company (as well as in many others), customers had to report the exact *odometer kilometrage*¹ in \n",
    "order for the company to adjust the insurance premiums. Note that motorcycles with lower kilometrage are less likely to \n",
    "have issues, and thus will result in a lower *insurance premium*². Therefore, customers have an incentive to lie, \n",
    "reporting a kilometrage lower than the real value, in order to save money.\n",
    "\n",
    "In the experiment, two different forms were created: one where the signing was done at the end, and another where the \n",
    "signing was done at the beginning. The insurance company then randomized these forms (i.e., each customer received\n",
    " exactly one form, each with probability 50%) and sent back the data that customers had provided. Some noteworthy \n",
    " details on the experiment are that:\n",
    "\n",
    "- All customers involved in the experiment already had a contract with the company and were simply renewing it. \n",
    "In the data that the company provided, they also report the odometer kilometrage for their previous contract.\n",
    "Each policy, therefore, contains two contracts: the \"updated\" contract —where the experiment was conducted— and \n",
    "the \"baseline\" contract, which was the previous contract customers had with the company.\n",
    "- A single insurance policy can insure up to 4 distinct motorcycles.\n",
    "\n",
    "In this assignment, you will take the role of the researcher and work analyzing this data!\n",
    "\n",
    "*Glossary:*\n",
    "1. **odometer kilometrage:** the total distance the motorcycle has traveled.\n",
    "2. **insurance premiums:** the amount of money one pays for an insurance policy.\n",
    "\n",
    "---\n",
    "\n",
    "## The data\n",
    "\n",
    "The company provided you with a compressed `.tsv` file containing one row per policy. \n",
    "The `.tsv` has the following fields:\n",
    "\n",
    "- `condition`: either `Sign Top` or `Sign Bottom`, depending on which form was sent.\n",
    "- `id`: unique identifier for each insurance policy.\n",
    "- `motorcycle_count`: number of motorcycles covered by the insurance policy.\n",
    "- `baseline_motorcycle[1-4]`: odometer kilometrage *reported by the customer* in the *previous (baseline)* contract. \n",
    "- `update_motorcycle[1-4]`: odometer kilometrage *reported by the customer* in the *current (updated)* contract.\n",
    "\n",
    "Some comments:\n",
    "\n",
    "- Recall that a single policy can ensure up to 4 motorcycles, and thus, the suffixes [1-4] indicate that there are 4 \n",
    "versions of these columns in the data (e.g., `baseline_motorcycle1`, `baseline_motorcycle2`, `baseline_motorcycle3`, \n",
    "`baseline_motorcycle4`). \n",
    "- When a policy has fewer than 4 motorcycles, only the columns with the smaller numerals are filled (e.g., if a policy \n",
    "insures one motorcycle,  only `baseline_motorcycle1` and `update_motorcycle1` will be filled).\n",
    "- Note that we only have access to the odometer kilometrage reported by the customers, \n",
    "which may be different from the real kilometrage of the motorcycles."
   ],
   "metadata": {}
  },
  {
   "cell_type": "code",
   "execution_count": 70,
   "source": [
    "# Imports you may need\n",
    "import seaborn as sns\n",
    "from IPython.display import display, HTML\n",
    "import matplotlib.pyplot as plt\n",
    "import scipy.stats as stats\n",
    "import pandas as pd\n",
    "import numpy as np"
   ],
   "outputs": [],
   "metadata": {}
  },
  {
   "cell_type": "markdown",
   "source": [
    "### **Task 1** — 4pts\n",
    "\n",
    "Your first task is to load the dataset into memory using pandas. \n",
    "**You should load the data directly from the compressed files.**\n",
    "\n",
    "Here, the files at hand are rather small, and you could easily uncompress the files to disk and work with them as plain \n",
    "text. Why, then, are we asking you to load the files compressed? The reason is that, in your life as a data scientist, \n",
    "this will often not be the case. Then, working with compressed files is key so that you don't receive email from your \n",
    "(often more responsible) colleagues demanding to know how you have managed to fill the entire cluster with your \n",
    "datasets. Another big advantage of compressing files is to simply read files faster. You will often find that reading\n",
    "compressed data on the fly (uncompressing it as you go), is much faster than reading uncompressed data, since reading\n",
    "and writing to disk may be your [bottleneck](https://skipperkongen.dk/2012/02/28/uncompressed-versus-compressed-read/). \n",
    "\n",
    "---\n",
    "\n",
    "**Hint:** `pandas` can open compressed files.\n",
    "\n",
    "**Hint:** In the real world (and in ADA-homework), your file often comes with some weird lines! \n",
    "This time you can safely ignore them (but in the real world you must try to understand why they are there!). \n",
    "Check the `error_bad_lines` or the `on_bad_lines` (depending on your pandas version) parameter on `read_csv`."
   ],
   "metadata": {}
  },
  {
   "cell_type": "code",
   "execution_count": 71,
   "source": [
    "pd.__version__"
   ],
   "outputs": [
    {
     "output_type": "execute_result",
     "data": {
      "text/plain": [
       "'1.3.3'"
      ]
     },
     "metadata": {},
     "execution_count": 71
    }
   ],
   "metadata": {}
  },
  {
   "cell_type": "markdown",
   "source": [
    "**Our comments:** \n",
    "\n",
    "Currently running with the most recent version of pandas. Therefore we can specify the `on_bad_lines` parameter.\n",
    "\n",
    "For the tsv file, as a first step we need to set the seperator in read_csv to '\\t', which equals a tab for the tsv file. Also as suggested, we decided to set on_bad_lines to 'skip', hence, lines that do not match the format of the first row in the tsv file are ignored. As can be seen by the filename, `'data.tsv.gz'`, we load the uncompressed file."
   ],
   "metadata": {}
  },
  {
   "cell_type": "code",
   "execution_count": 72,
   "source": [
    "data_folder = './data/'\n",
    "filename = 'data.tsv.gz'\n",
    "\n",
    "# Loading dataframe and printing the first 5 rows\n",
    "data = pd.read_csv(data_folder + filename, sep='\\t', on_bad_lines='skip')\n",
    "data.head()"
   ],
   "outputs": [
    {
     "output_type": "execute_result",
     "data": {
      "text/html": [
       "<div>\n",
       "<style scoped>\n",
       "    .dataframe tbody tr th:only-of-type {\n",
       "        vertical-align: middle;\n",
       "    }\n",
       "\n",
       "    .dataframe tbody tr th {\n",
       "        vertical-align: top;\n",
       "    }\n",
       "\n",
       "    .dataframe thead th {\n",
       "        text-align: right;\n",
       "    }\n",
       "</style>\n",
       "<table border=\"1\" class=\"dataframe\">\n",
       "  <thead>\n",
       "    <tr style=\"text-align: right;\">\n",
       "      <th></th>\n",
       "      <th>condition</th>\n",
       "      <th>id</th>\n",
       "      <th>baseline_motorcycle1</th>\n",
       "      <th>update_motorcycle1</th>\n",
       "      <th>baseline_motorcycle2</th>\n",
       "      <th>update_motorcycle2</th>\n",
       "      <th>baseline_motorcycle3</th>\n",
       "      <th>update_motorcycle3</th>\n",
       "      <th>baseline_motorcycle4</th>\n",
       "      <th>update_motorcycle4</th>\n",
       "      <th>motorcycle_count</th>\n",
       "    </tr>\n",
       "  </thead>\n",
       "  <tbody>\n",
       "    <tr>\n",
       "      <th>0</th>\n",
       "      <td>Sign Top</td>\n",
       "      <td>1</td>\n",
       "      <td>896</td>\n",
       "      <td>39198</td>\n",
       "      <td>NaN</td>\n",
       "      <td>NaN</td>\n",
       "      <td>NaN</td>\n",
       "      <td>NaN</td>\n",
       "      <td>NaN</td>\n",
       "      <td>NaN</td>\n",
       "      <td>1</td>\n",
       "    </tr>\n",
       "    <tr>\n",
       "      <th>1</th>\n",
       "      <td>Sign Bottom</td>\n",
       "      <td>2</td>\n",
       "      <td>21396</td>\n",
       "      <td>63511</td>\n",
       "      <td>32659.0</td>\n",
       "      <td>47605.0</td>\n",
       "      <td>NaN</td>\n",
       "      <td>NaN</td>\n",
       "      <td>NaN</td>\n",
       "      <td>NaN</td>\n",
       "      <td>2</td>\n",
       "    </tr>\n",
       "    <tr>\n",
       "      <th>2</th>\n",
       "      <td>Sign Bottom</td>\n",
       "      <td>3</td>\n",
       "      <td>21340</td>\n",
       "      <td>37460</td>\n",
       "      <td>44998.0</td>\n",
       "      <td>59002.0</td>\n",
       "      <td>NaN</td>\n",
       "      <td>NaN</td>\n",
       "      <td>NaN</td>\n",
       "      <td>NaN</td>\n",
       "      <td>2</td>\n",
       "    </tr>\n",
       "    <tr>\n",
       "      <th>3</th>\n",
       "      <td>Sign Bottom</td>\n",
       "      <td>4</td>\n",
       "      <td>23912</td>\n",
       "      <td>59136</td>\n",
       "      <td>NaN</td>\n",
       "      <td>NaN</td>\n",
       "      <td>NaN</td>\n",
       "      <td>NaN</td>\n",
       "      <td>NaN</td>\n",
       "      <td>NaN</td>\n",
       "      <td>1</td>\n",
       "    </tr>\n",
       "    <tr>\n",
       "      <th>4</th>\n",
       "      <td>Sign Bottom</td>\n",
       "      <td>5</td>\n",
       "      <td>16862</td>\n",
       "      <td>59292</td>\n",
       "      <td>NaN</td>\n",
       "      <td>NaN</td>\n",
       "      <td>NaN</td>\n",
       "      <td>NaN</td>\n",
       "      <td>NaN</td>\n",
       "      <td>NaN</td>\n",
       "      <td>1</td>\n",
       "    </tr>\n",
       "  </tbody>\n",
       "</table>\n",
       "</div>"
      ],
      "text/plain": [
       "     condition  id  baseline_motorcycle1  update_motorcycle1  \\\n",
       "0     Sign Top   1                   896               39198   \n",
       "1  Sign Bottom   2                 21396               63511   \n",
       "2  Sign Bottom   3                 21340               37460   \n",
       "3  Sign Bottom   4                 23912               59136   \n",
       "4  Sign Bottom   5                 16862               59292   \n",
       "\n",
       "   baseline_motorcycle2  update_motorcycle2  baseline_motorcycle3  \\\n",
       "0                   NaN                 NaN                   NaN   \n",
       "1               32659.0             47605.0                   NaN   \n",
       "2               44998.0             59002.0                   NaN   \n",
       "3                   NaN                 NaN                   NaN   \n",
       "4                   NaN                 NaN                   NaN   \n",
       "\n",
       "   update_motorcycle3  baseline_motorcycle4  update_motorcycle4  \\\n",
       "0                 NaN                   NaN                 NaN   \n",
       "1                 NaN                   NaN                 NaN   \n",
       "2                 NaN                   NaN                 NaN   \n",
       "3                 NaN                   NaN                 NaN   \n",
       "4                 NaN                   NaN                 NaN   \n",
       "\n",
       "   motorcycle_count  \n",
       "0                 1  \n",
       "1                 2  \n",
       "2                 2  \n",
       "3                 1  \n",
       "4                 1  "
      ]
     },
     "metadata": {},
     "execution_count": 72
    }
   ],
   "metadata": {}
  },
  {
   "cell_type": "markdown",
   "source": [
    "**Our comments:**\n",
    "\n",
    "We further see from the shape that there is 13497 policies registered in the raw data."
   ],
   "metadata": {}
  },
  {
   "cell_type": "code",
   "execution_count": 73,
   "source": [
    "data.shape"
   ],
   "outputs": [
    {
     "output_type": "execute_result",
     "data": {
      "text/plain": [
       "(13497, 11)"
      ]
     },
     "metadata": {},
     "execution_count": 73
    }
   ],
   "metadata": {}
  },
  {
   "cell_type": "markdown",
   "source": [
    "### Task 2 — 12pts\n",
    "\n",
    "As a good data scientist, the first thing you do is to clean up the data and perform some small sanity checks.\n",
    "\n",
    "1. The motorcycle insurance company mentioned that each policy has a unique identifier, but that there may be duplicate \n",
    "rows (i.e., multiple rows with the same policy identifier). Check if there are duplicate policies and, if so, filter \n",
    "these rows from the data (always keeping the first).\n",
    "\n",
    "2. According to the company, all policies should have kept the number of motorcycles from the previous contract (i.e., \n",
    "the number of motorcycles recorded in baseline contracts should equal the number of motorcycles in updated contracts). \n",
    "Also, the number of odometer readings for each contract should be the same as the number stated in the \n",
    "`motorcycle_count` variable. Check the data to see if these two things hold. If not, filter the anomalous rows.\n",
    "\n",
    "3. Calculate the mean and the median value of each column related to kilometrages. Are the values obtained plausible? \n",
    "Visualize the distribution of the data and remove any extreme outliers.\n",
    "\n",
    "4. **Discuss:** In cases where you cannot think of appropriate ways to remove outliers, would you prefer summarizing \n",
    "numerical data with outliers with the mean or the median? Why?\n",
    "\n",
    "---\n",
    "\n",
    "**Hint:** Here we are considering as outliers numbers that are not plausible in the context of motorcycle kilometrages."
   ],
   "metadata": {}
  },
  {
   "cell_type": "markdown",
   "source": [
    "**Our comments (Task 2.1):**\n",
    "\n",
    "First of all we verify that there are duplicate rows with the same policy identifier in the dataframe, `data`, by checking the is_unique property of the ids of the dataframe. False in this case tells us that there are duplicate ids, which implies duplicate rows. \n",
    "    "
   ],
   "metadata": {}
  },
  {
   "cell_type": "code",
   "execution_count": 74,
   "source": [
    "data.id.is_unique"
   ],
   "outputs": [
    {
     "output_type": "execute_result",
     "data": {
      "text/plain": [
       "False"
      ]
     },
     "metadata": {},
     "execution_count": 74
    }
   ],
   "metadata": {}
  },
  {
   "cell_type": "markdown",
   "source": [
    "**Our comments (Task 2.1 - continued):**\n",
    "\n",
    "We use the pandas function `duplicated()` to determine which rows contains a duplicated 'id'. By setting the parameter `keep` to `'first'` the returned duplicate indeces are the indeces of second (or more) time an id occurs. The first following code-box prints a dataframe of the duplicates that needs to be removed. In the second following code box these rows are removed and we check whether the indeces are now unique."
   ],
   "metadata": {}
  },
  {
   "cell_type": "code",
   "execution_count": 75,
   "source": [
    "# check for duplicate policies\n",
    "data[data.duplicated(subset='id', keep='first')]"
   ],
   "outputs": [
    {
     "output_type": "execute_result",
     "data": {
      "text/html": [
       "<div>\n",
       "<style scoped>\n",
       "    .dataframe tbody tr th:only-of-type {\n",
       "        vertical-align: middle;\n",
       "    }\n",
       "\n",
       "    .dataframe tbody tr th {\n",
       "        vertical-align: top;\n",
       "    }\n",
       "\n",
       "    .dataframe thead th {\n",
       "        text-align: right;\n",
       "    }\n",
       "</style>\n",
       "<table border=\"1\" class=\"dataframe\">\n",
       "  <thead>\n",
       "    <tr style=\"text-align: right;\">\n",
       "      <th></th>\n",
       "      <th>condition</th>\n",
       "      <th>id</th>\n",
       "      <th>baseline_motorcycle1</th>\n",
       "      <th>update_motorcycle1</th>\n",
       "      <th>baseline_motorcycle2</th>\n",
       "      <th>update_motorcycle2</th>\n",
       "      <th>baseline_motorcycle3</th>\n",
       "      <th>update_motorcycle3</th>\n",
       "      <th>baseline_motorcycle4</th>\n",
       "      <th>update_motorcycle4</th>\n",
       "      <th>motorcycle_count</th>\n",
       "    </tr>\n",
       "  </thead>\n",
       "  <tbody>\n",
       "    <tr>\n",
       "      <th>14</th>\n",
       "      <td>Sign Bottom</td>\n",
       "      <td>14</td>\n",
       "      <td>83443</td>\n",
       "      <td>105094</td>\n",
       "      <td>NaN</td>\n",
       "      <td>NaN</td>\n",
       "      <td>NaN</td>\n",
       "      <td>NaN</td>\n",
       "      <td>NaN</td>\n",
       "      <td>NaN</td>\n",
       "      <td>1</td>\n",
       "    </tr>\n",
       "    <tr>\n",
       "      <th>333</th>\n",
       "      <td>Sign Bottom</td>\n",
       "      <td>332</td>\n",
       "      <td>1721</td>\n",
       "      <td>30093</td>\n",
       "      <td>30482.0</td>\n",
       "      <td>38315.0</td>\n",
       "      <td>NaN</td>\n",
       "      <td>NaN</td>\n",
       "      <td>NaN</td>\n",
       "      <td>NaN</td>\n",
       "      <td>2</td>\n",
       "    </tr>\n",
       "    <tr>\n",
       "      <th>751</th>\n",
       "      <td>Sign Top</td>\n",
       "      <td>749</td>\n",
       "      <td>101625</td>\n",
       "      <td>148134</td>\n",
       "      <td>135926.0</td>\n",
       "      <td>164660.0</td>\n",
       "      <td>NaN</td>\n",
       "      <td>NaN</td>\n",
       "      <td>NaN</td>\n",
       "      <td>NaN</td>\n",
       "      <td>2</td>\n",
       "    </tr>\n",
       "    <tr>\n",
       "      <th>1107</th>\n",
       "      <td>Sign Bottom</td>\n",
       "      <td>1104</td>\n",
       "      <td>114740</td>\n",
       "      <td>146569</td>\n",
       "      <td>NaN</td>\n",
       "      <td>NaN</td>\n",
       "      <td>NaN</td>\n",
       "      <td>NaN</td>\n",
       "      <td>NaN</td>\n",
       "      <td>NaN</td>\n",
       "      <td>1</td>\n",
       "    </tr>\n",
       "    <tr>\n",
       "      <th>1380</th>\n",
       "      <td>Sign Bottom</td>\n",
       "      <td>1376</td>\n",
       "      <td>46097</td>\n",
       "      <td>95235</td>\n",
       "      <td>NaN</td>\n",
       "      <td>NaN</td>\n",
       "      <td>NaN</td>\n",
       "      <td>NaN</td>\n",
       "      <td>NaN</td>\n",
       "      <td>NaN</td>\n",
       "      <td>1</td>\n",
       "    </tr>\n",
       "    <tr>\n",
       "      <th>1536</th>\n",
       "      <td>Sign Bottom</td>\n",
       "      <td>1531</td>\n",
       "      <td>72973</td>\n",
       "      <td>116284</td>\n",
       "      <td>NaN</td>\n",
       "      <td>NaN</td>\n",
       "      <td>NaN</td>\n",
       "      <td>NaN</td>\n",
       "      <td>NaN</td>\n",
       "      <td>NaN</td>\n",
       "      <td>1</td>\n",
       "    </tr>\n",
       "    <tr>\n",
       "      <th>1780</th>\n",
       "      <td>Sign Top</td>\n",
       "      <td>1774</td>\n",
       "      <td>21000</td>\n",
       "      <td>70058</td>\n",
       "      <td>NaN</td>\n",
       "      <td>NaN</td>\n",
       "      <td>NaN</td>\n",
       "      <td>NaN</td>\n",
       "      <td>NaN</td>\n",
       "      <td>NaN</td>\n",
       "      <td>1</td>\n",
       "    </tr>\n",
       "    <tr>\n",
       "      <th>2143</th>\n",
       "      <td>Sign Bottom</td>\n",
       "      <td>2136</td>\n",
       "      <td>13061</td>\n",
       "      <td>25046</td>\n",
       "      <td>NaN</td>\n",
       "      <td>NaN</td>\n",
       "      <td>NaN</td>\n",
       "      <td>NaN</td>\n",
       "      <td>NaN</td>\n",
       "      <td>NaN</td>\n",
       "      <td>1</td>\n",
       "    </tr>\n",
       "    <tr>\n",
       "      <th>13459</th>\n",
       "      <td>Sign Top</td>\n",
       "      <td>13451</td>\n",
       "      <td>10744</td>\n",
       "      <td>30334</td>\n",
       "      <td>60488.0</td>\n",
       "      <td>93297.0</td>\n",
       "      <td>NaN</td>\n",
       "      <td>NaN</td>\n",
       "      <td>NaN</td>\n",
       "      <td>NaN</td>\n",
       "      <td>2</td>\n",
       "    </tr>\n",
       "  </tbody>\n",
       "</table>\n",
       "</div>"
      ],
      "text/plain": [
       "         condition     id  baseline_motorcycle1  update_motorcycle1  \\\n",
       "14     Sign Bottom     14                 83443              105094   \n",
       "333    Sign Bottom    332                  1721               30093   \n",
       "751       Sign Top    749                101625              148134   \n",
       "1107   Sign Bottom   1104                114740              146569   \n",
       "1380   Sign Bottom   1376                 46097               95235   \n",
       "1536   Sign Bottom   1531                 72973              116284   \n",
       "1780      Sign Top   1774                 21000               70058   \n",
       "2143   Sign Bottom   2136                 13061               25046   \n",
       "13459     Sign Top  13451                 10744               30334   \n",
       "\n",
       "       baseline_motorcycle2  update_motorcycle2  baseline_motorcycle3  \\\n",
       "14                      NaN                 NaN                   NaN   \n",
       "333                 30482.0             38315.0                   NaN   \n",
       "751                135926.0            164660.0                   NaN   \n",
       "1107                    NaN                 NaN                   NaN   \n",
       "1380                    NaN                 NaN                   NaN   \n",
       "1536                    NaN                 NaN                   NaN   \n",
       "1780                    NaN                 NaN                   NaN   \n",
       "2143                    NaN                 NaN                   NaN   \n",
       "13459               60488.0             93297.0                   NaN   \n",
       "\n",
       "       update_motorcycle3  baseline_motorcycle4  update_motorcycle4  \\\n",
       "14                    NaN                   NaN                 NaN   \n",
       "333                   NaN                   NaN                 NaN   \n",
       "751                   NaN                   NaN                 NaN   \n",
       "1107                  NaN                   NaN                 NaN   \n",
       "1380                  NaN                   NaN                 NaN   \n",
       "1536                  NaN                   NaN                 NaN   \n",
       "1780                  NaN                   NaN                 NaN   \n",
       "2143                  NaN                   NaN                 NaN   \n",
       "13459                 NaN                   NaN                 NaN   \n",
       "\n",
       "       motorcycle_count  \n",
       "14                    1  \n",
       "333                   2  \n",
       "751                   2  \n",
       "1107                  1  \n",
       "1380                  1  \n",
       "1536                  1  \n",
       "1780                  1  \n",
       "2143                  1  \n",
       "13459                 2  "
      ]
     },
     "metadata": {},
     "execution_count": 75
    }
   ],
   "metadata": {}
  },
  {
   "cell_type": "code",
   "execution_count": 76,
   "source": [
    "# remove rows with duplicate policies\n",
    "data = data.drop_duplicates(subset='id', keep='first')\n",
    "data.id.is_unique"
   ],
   "outputs": [
    {
     "output_type": "execute_result",
     "data": {
      "text/plain": [
       "True"
      ]
     },
     "metadata": {},
     "execution_count": 76
    }
   ],
   "metadata": {}
  },
  {
   "cell_type": "markdown",
   "source": [
    "**Our comments (Task 2.1 - continued):**\n",
    "\n",
    "Before the shape was 13497 and is now 13488 - thus, 9 rows were deleted due to duplicate policies."
   ],
   "metadata": {}
  },
  {
   "cell_type": "code",
   "execution_count": 77,
   "source": [
    "data.shape"
   ],
   "outputs": [
    {
     "output_type": "execute_result",
     "data": {
      "text/plain": [
       "(13488, 11)"
      ]
     },
     "metadata": {},
     "execution_count": 77
    }
   ],
   "metadata": {}
  },
  {
   "cell_type": "markdown",
   "source": [
    "---"
   ],
   "metadata": {}
  },
  {
   "cell_type": "markdown",
   "source": [
    "**Our comments (Task 2.2):**\n",
    "\n",
    "We regard the task of verifying which rows satisfy the requirements for subpoint 2) mentioned in the description as a filtering task. Thus, we want to apply the following boolean filter to each row in the dataframe to determine if they are to be kept or disregarded. To achieve that, we first write the filter function filter_anomalous, which returns True when the row is not anomalous and therefore kept. Afterwards, we filter the data by indexing with filter_anomalous applied to the dataframe. This gives us a boolean Series, with which we then only keep the non-anomalous rows.\n",
    "\n",
    "Our filter checks precisely to conditions: \n",
    "1. check if baseline_motorcyclei != Nan <=> update_motorcyclei != Nan (1 <= i <= 4)\n",
    "2. check if (max i for which baseline_motorcylcei != Nan) == motorcycle_count\n",
    "\n",
    "As the description of the data mentions that \"When a policy has fewer than 4 motorcycles, only the columns with the smaller numerals are filled\", we decided to also filter examples out where the number of baseline and update motorcycles actually matches the motorcycle_count, but there are some gaps in the filled columns (i.e. say motorcycle_count == 2 and columns baseline/update_motorcycle 1 and 3 were filled, compare e.g. id 64), as can be seen below."
   ],
   "metadata": {}
  },
  {
   "cell_type": "code",
   "execution_count": 78,
   "source": [
    "# visualization of mentioned example of id no. 64\n",
    "data.loc[63:67]"
   ],
   "outputs": [
    {
     "output_type": "execute_result",
     "data": {
      "text/html": [
       "<div>\n",
       "<style scoped>\n",
       "    .dataframe tbody tr th:only-of-type {\n",
       "        vertical-align: middle;\n",
       "    }\n",
       "\n",
       "    .dataframe tbody tr th {\n",
       "        vertical-align: top;\n",
       "    }\n",
       "\n",
       "    .dataframe thead th {\n",
       "        text-align: right;\n",
       "    }\n",
       "</style>\n",
       "<table border=\"1\" class=\"dataframe\">\n",
       "  <thead>\n",
       "    <tr style=\"text-align: right;\">\n",
       "      <th></th>\n",
       "      <th>condition</th>\n",
       "      <th>id</th>\n",
       "      <th>baseline_motorcycle1</th>\n",
       "      <th>update_motorcycle1</th>\n",
       "      <th>baseline_motorcycle2</th>\n",
       "      <th>update_motorcycle2</th>\n",
       "      <th>baseline_motorcycle3</th>\n",
       "      <th>update_motorcycle3</th>\n",
       "      <th>baseline_motorcycle4</th>\n",
       "      <th>update_motorcycle4</th>\n",
       "      <th>motorcycle_count</th>\n",
       "    </tr>\n",
       "  </thead>\n",
       "  <tbody>\n",
       "    <tr>\n",
       "      <th>63</th>\n",
       "      <td>Sign Top</td>\n",
       "      <td>63</td>\n",
       "      <td>94162</td>\n",
       "      <td>112348</td>\n",
       "      <td>NaN</td>\n",
       "      <td>NaN</td>\n",
       "      <td>NaN</td>\n",
       "      <td>NaN</td>\n",
       "      <td>NaN</td>\n",
       "      <td>NaN</td>\n",
       "      <td>1</td>\n",
       "    </tr>\n",
       "    <tr>\n",
       "      <th>64</th>\n",
       "      <td>Sign Top</td>\n",
       "      <td>64</td>\n",
       "      <td>78704</td>\n",
       "      <td>109065</td>\n",
       "      <td>NaN</td>\n",
       "      <td>NaN</td>\n",
       "      <td>17406.0</td>\n",
       "      <td>34540.0</td>\n",
       "      <td>NaN</td>\n",
       "      <td>NaN</td>\n",
       "      <td>2</td>\n",
       "    </tr>\n",
       "    <tr>\n",
       "      <th>65</th>\n",
       "      <td>Sign Bottom</td>\n",
       "      <td>65</td>\n",
       "      <td>59970</td>\n",
       "      <td>89440</td>\n",
       "      <td>64900.0</td>\n",
       "      <td>83080.0</td>\n",
       "      <td>NaN</td>\n",
       "      <td>NaN</td>\n",
       "      <td>NaN</td>\n",
       "      <td>NaN</td>\n",
       "      <td>2</td>\n",
       "    </tr>\n",
       "    <tr>\n",
       "      <th>66</th>\n",
       "      <td>Sign Bottom</td>\n",
       "      <td>66</td>\n",
       "      <td>86465</td>\n",
       "      <td>123221</td>\n",
       "      <td>NaN</td>\n",
       "      <td>NaN</td>\n",
       "      <td>NaN</td>\n",
       "      <td>NaN</td>\n",
       "      <td>NaN</td>\n",
       "      <td>NaN</td>\n",
       "      <td>1</td>\n",
       "    </tr>\n",
       "    <tr>\n",
       "      <th>67</th>\n",
       "      <td>Sign Top</td>\n",
       "      <td>67</td>\n",
       "      <td>15</td>\n",
       "      <td>5037</td>\n",
       "      <td>NaN</td>\n",
       "      <td>NaN</td>\n",
       "      <td>NaN</td>\n",
       "      <td>NaN</td>\n",
       "      <td>NaN</td>\n",
       "      <td>NaN</td>\n",
       "      <td>1</td>\n",
       "    </tr>\n",
       "  </tbody>\n",
       "</table>\n",
       "</div>"
      ],
      "text/plain": [
       "      condition  id  baseline_motorcycle1  update_motorcycle1  \\\n",
       "63     Sign Top  63                 94162              112348   \n",
       "64     Sign Top  64                 78704              109065   \n",
       "65  Sign Bottom  65                 59970               89440   \n",
       "66  Sign Bottom  66                 86465              123221   \n",
       "67     Sign Top  67                    15                5037   \n",
       "\n",
       "    baseline_motorcycle2  update_motorcycle2  baseline_motorcycle3  \\\n",
       "63                   NaN                 NaN                   NaN   \n",
       "64                   NaN                 NaN               17406.0   \n",
       "65               64900.0             83080.0                   NaN   \n",
       "66                   NaN                 NaN                   NaN   \n",
       "67                   NaN                 NaN                   NaN   \n",
       "\n",
       "    update_motorcycle3  baseline_motorcycle4  update_motorcycle4  \\\n",
       "63                 NaN                   NaN                 NaN   \n",
       "64             34540.0                   NaN                 NaN   \n",
       "65                 NaN                   NaN                 NaN   \n",
       "66                 NaN                   NaN                 NaN   \n",
       "67                 NaN                   NaN                 NaN   \n",
       "\n",
       "    motorcycle_count  \n",
       "63                 1  \n",
       "64                 2  \n",
       "65                 2  \n",
       "66                 1  \n",
       "67                 1  "
      ]
     },
     "metadata": {},
     "execution_count": 78
    }
   ],
   "metadata": {}
  },
  {
   "cell_type": "code",
   "execution_count": 79,
   "source": [
    "def filter_anomalous(row):\n",
    "    \"\"\"\n",
    "    Returns True if row is not anomalous,\n",
    "    i.e. all policies kept the number of motorcycles and number of kilometrage readings equals motorcycle_count; \n",
    "    False otherwise\n",
    "    \"\"\"\n",
    "    no_of_cycles = 0\n",
    "    \n",
    "    # range including 1-4 due to number of owned motorcycle\n",
    "    for i in range(1,5):\n",
    "        if (pd.isna(row['baseline_motorcycle{}'.format(i)]) and pd.notna(row['update_motorcycle{}'.format(i)])) \\\n",
    "            or (pd.notna(row['baseline_motorcycle{}'.format(i)]) and pd.isna(row['update_motorcycle{}'.format(i)])):\n",
    "                return False\n",
    "        if pd.notna(row['baseline_motorcycle{}'.format(i)]) and pd.notna(row['update_motorcycle{}'.format(i)]):\n",
    "            no_of_cycles = i\n",
    "    if row['motorcycle_count'] != no_of_cycles:\n",
    "        return False\n",
    "    return True"
   ],
   "outputs": [],
   "metadata": {}
  },
  {
   "cell_type": "code",
   "execution_count": 80,
   "source": [
    "# filtering out rows with a mismatch between baseline_motorcycle and update_motorcycle\n",
    "data = data[data.apply(filter_anomalous, axis=1)]\n",
    "\n",
    "# e.g. id 64 is now removed\n",
    "data.loc[63:67]"
   ],
   "outputs": [
    {
     "output_type": "execute_result",
     "data": {
      "text/html": [
       "<div>\n",
       "<style scoped>\n",
       "    .dataframe tbody tr th:only-of-type {\n",
       "        vertical-align: middle;\n",
       "    }\n",
       "\n",
       "    .dataframe tbody tr th {\n",
       "        vertical-align: top;\n",
       "    }\n",
       "\n",
       "    .dataframe thead th {\n",
       "        text-align: right;\n",
       "    }\n",
       "</style>\n",
       "<table border=\"1\" class=\"dataframe\">\n",
       "  <thead>\n",
       "    <tr style=\"text-align: right;\">\n",
       "      <th></th>\n",
       "      <th>condition</th>\n",
       "      <th>id</th>\n",
       "      <th>baseline_motorcycle1</th>\n",
       "      <th>update_motorcycle1</th>\n",
       "      <th>baseline_motorcycle2</th>\n",
       "      <th>update_motorcycle2</th>\n",
       "      <th>baseline_motorcycle3</th>\n",
       "      <th>update_motorcycle3</th>\n",
       "      <th>baseline_motorcycle4</th>\n",
       "      <th>update_motorcycle4</th>\n",
       "      <th>motorcycle_count</th>\n",
       "    </tr>\n",
       "  </thead>\n",
       "  <tbody>\n",
       "    <tr>\n",
       "      <th>63</th>\n",
       "      <td>Sign Top</td>\n",
       "      <td>63</td>\n",
       "      <td>94162</td>\n",
       "      <td>112348</td>\n",
       "      <td>NaN</td>\n",
       "      <td>NaN</td>\n",
       "      <td>NaN</td>\n",
       "      <td>NaN</td>\n",
       "      <td>NaN</td>\n",
       "      <td>NaN</td>\n",
       "      <td>1</td>\n",
       "    </tr>\n",
       "    <tr>\n",
       "      <th>65</th>\n",
       "      <td>Sign Bottom</td>\n",
       "      <td>65</td>\n",
       "      <td>59970</td>\n",
       "      <td>89440</td>\n",
       "      <td>64900.0</td>\n",
       "      <td>83080.0</td>\n",
       "      <td>NaN</td>\n",
       "      <td>NaN</td>\n",
       "      <td>NaN</td>\n",
       "      <td>NaN</td>\n",
       "      <td>2</td>\n",
       "    </tr>\n",
       "    <tr>\n",
       "      <th>66</th>\n",
       "      <td>Sign Bottom</td>\n",
       "      <td>66</td>\n",
       "      <td>86465</td>\n",
       "      <td>123221</td>\n",
       "      <td>NaN</td>\n",
       "      <td>NaN</td>\n",
       "      <td>NaN</td>\n",
       "      <td>NaN</td>\n",
       "      <td>NaN</td>\n",
       "      <td>NaN</td>\n",
       "      <td>1</td>\n",
       "    </tr>\n",
       "    <tr>\n",
       "      <th>67</th>\n",
       "      <td>Sign Top</td>\n",
       "      <td>67</td>\n",
       "      <td>15</td>\n",
       "      <td>5037</td>\n",
       "      <td>NaN</td>\n",
       "      <td>NaN</td>\n",
       "      <td>NaN</td>\n",
       "      <td>NaN</td>\n",
       "      <td>NaN</td>\n",
       "      <td>NaN</td>\n",
       "      <td>1</td>\n",
       "    </tr>\n",
       "  </tbody>\n",
       "</table>\n",
       "</div>"
      ],
      "text/plain": [
       "      condition  id  baseline_motorcycle1  update_motorcycle1  \\\n",
       "63     Sign Top  63                 94162              112348   \n",
       "65  Sign Bottom  65                 59970               89440   \n",
       "66  Sign Bottom  66                 86465              123221   \n",
       "67     Sign Top  67                    15                5037   \n",
       "\n",
       "    baseline_motorcycle2  update_motorcycle2  baseline_motorcycle3  \\\n",
       "63                   NaN                 NaN                   NaN   \n",
       "65               64900.0             83080.0                   NaN   \n",
       "66                   NaN                 NaN                   NaN   \n",
       "67                   NaN                 NaN                   NaN   \n",
       "\n",
       "    update_motorcycle3  baseline_motorcycle4  update_motorcycle4  \\\n",
       "63                 NaN                   NaN                 NaN   \n",
       "65                 NaN                   NaN                 NaN   \n",
       "66                 NaN                   NaN                 NaN   \n",
       "67                 NaN                   NaN                 NaN   \n",
       "\n",
       "    motorcycle_count  \n",
       "63                 1  \n",
       "65                 2  \n",
       "66                 1  \n",
       "67                 1  "
      ]
     },
     "metadata": {},
     "execution_count": 80
    }
   ],
   "metadata": {}
  },
  {
   "cell_type": "markdown",
   "source": [
    "**Our comments (Task 2.2 - continued)**\n",
    "\n",
    "Again the dataframe was reduced - now containing 12598 policies."
   ],
   "metadata": {}
  },
  {
   "cell_type": "code",
   "execution_count": 81,
   "source": [
    "data.shape"
   ],
   "outputs": [
    {
     "output_type": "execute_result",
     "data": {
      "text/plain": [
       "(12598, 11)"
      ]
     },
     "metadata": {},
     "execution_count": 81
    }
   ],
   "metadata": {}
  },
  {
   "cell_type": "markdown",
   "source": [
    "---"
   ],
   "metadata": {}
  },
  {
   "cell_type": "markdown",
   "source": [
    "**Our comments (Task 2.3):**\n",
    "\n",
    "We now want to investigate whether the data is affected by outliers in the variables containing information on kilometrages.\n",
    "As a start we will visualize the boxplots of these variables. For this purpose, a function is created as we want to reapply the function after removing potential outliers to see if it made a difference."
   ],
   "metadata": {}
  },
  {
   "cell_type": "code",
   "execution_count": 82,
   "source": [
    "def plot_boxplots(data, return_stats=True):\n",
    "    \"\"\" Function that plots boxplots. \n",
    "    One plot where each attribute is in a subplot to visualize the outliers.\n",
    "    Another plot for visualizing the boxplots of the attributes together for comparison.\n",
    "    \n",
    "    \"\"\"\n",
    "    \n",
    "    # Plot with subplots\n",
    "    nrows, ncols = (4, 2)\n",
    "    stats_ = {}\n",
    "    fig, axs = plt.subplots(nrows, ncols, figsize=(16,12), sharex=True, sharey=True)\n",
    "\n",
    "    colors = ['darkgrey', 'darkgrey', 'lightsteelblue', 'lightsteelblue', 'lightblue', 'lightblue', 'C0', 'C0']\n",
    "    \n",
    "    for plot_idx, i in enumerate(list(range(2, 9, 2))):\n",
    "        # Getting Pandas-series for baseline_motorcycle(i) and update_motorcycle(i)\n",
    "        baseline_col = data.iloc[:, i][~np.isnan(data.iloc[:, i+1])]\n",
    "        update_col = data.iloc[:, i+1][~np.isnan(data.iloc[:, i+1])]\n",
    "\n",
    "        # Plots histogram of baseline_motorcycle(i)\n",
    "        plt.subplot(nrows, ncols, 2*plot_idx+1)\n",
    "        plot1 = plt.boxplot(baseline_col[baseline_col <= baseline_col.max()], patch_artist=True)  \n",
    "        plt.title(baseline_col.name)\n",
    "\n",
    "        # Plots histogram of update_motorcycles(i)\n",
    "        plt.subplot(nrows, ncols, 2*plot_idx+2)\n",
    "        plot2 = plt.boxplot(update_col[update_col <= update_col.max()], patch_artist=True) \n",
    "        plt.title(update_col.name)\n",
    "        \n",
    "        # Calculate mean and median\n",
    "        if return_stats:\n",
    "            stats_[baseline_col.name] = baseline_col.mean(), baseline_col.median()\n",
    "            stats_[update_col.name] = update_col.mean(), update_col.median()\n",
    "         \n",
    "        plot1['boxes'][0].set_color(colors[plot_idx*2])\n",
    "        plot2['boxes'][0].set_color(colors[plot_idx*2])\n",
    "        \n",
    "        \n",
    "    plt.show()\n",
    "    \n",
    "    # Comparative plot\n",
    "    boxplot_data = [(column_name, data[column_name][~np.isnan(data[column_name])]) for column_name in data.iloc[:, 2:10]]\n",
    "    boxplot_data = list(zip(*boxplot_data))\n",
    "    \n",
    "    fig = plt.figure(figsize =(15, 4)) \n",
    "    ax = fig.add_subplot(111) \n",
    "\n",
    "    # Creating axes instance \n",
    "    boxplot = ax.boxplot(boxplot_data[1], labels=boxplot_data[0], patch_artist = True)            \n",
    "    for patch, color in zip(boxplot['boxes'], colors): \n",
    "        patch.set_facecolor(color) \n",
    "    plt.xticks(rotation=45)\n",
    "    plt.ylabel(\"reported kilometrages\")\n",
    "    plt.show()\n",
    "    \n",
    "    stats_ = pd.DataFrame(stats_, index=['mean', 'median'])\n",
    "    return stats_"
   ],
   "outputs": [],
   "metadata": {}
  },
  {
   "cell_type": "code",
   "execution_count": 83,
   "source": [
    "stats_before = plot_boxplots(data, return_stats=True)"
   ],
   "outputs": [
    {
     "output_type": "display_data",
     "data": {
      "image/png": "[encoded data removed]",
      "text/plain": [
       "<Figure size 1152x864 with 8 Axes>"
      ]
     },
     "metadata": {
      "needs_background": "light"
     }
    },
    {
     "output_type": "display_data",
     "data": {
      "image/png": "[encoded data removed]",
      "text/plain": [
       "<Figure size 1080x288 with 1 Axes>"
      ]
     },
     "metadata": {
      "needs_background": "light"
     }
    }
   ],
   "metadata": {}
  },
  {
   "cell_type": "markdown",
   "source": [
    "**Our comments (Task 2.3 - continued):**\n",
    "\n",
    "It is quite evident that at least some of the variables (baseline_motorcycle 1 + 2 and update_motorcycle 1 + 2) seems to be affected by outlier observations. Evidence for this is further seen from the calculated means and medians of the above plotted variables, since the mean is much higher than the median in case of the 1st motorcycles. Only for the 4th motorcycles (baseline_motorcycle4 and update_motorcycle4) it is seen that the median tends to be on the same level or even lower than the mean."
   ],
   "metadata": {}
  },
  {
   "cell_type": "code",
   "execution_count": 84,
   "source": [
    "stats_before"
   ],
   "outputs": [
    {
     "output_type": "execute_result",
     "data": {
      "text/html": [
       "<div>\n",
       "<style scoped>\n",
       "    .dataframe tbody tr th:only-of-type {\n",
       "        vertical-align: middle;\n",
       "    }\n",
       "\n",
       "    .dataframe tbody tr th {\n",
       "        vertical-align: top;\n",
       "    }\n",
       "\n",
       "    .dataframe thead th {\n",
       "        text-align: right;\n",
       "    }\n",
       "</style>\n",
       "<table border=\"1\" class=\"dataframe\">\n",
       "  <thead>\n",
       "    <tr style=\"text-align: right;\">\n",
       "      <th></th>\n",
       "      <th>baseline_motorcycle1</th>\n",
       "      <th>update_motorcycle1</th>\n",
       "      <th>baseline_motorcycle2</th>\n",
       "      <th>update_motorcycle2</th>\n",
       "      <th>baseline_motorcycle3</th>\n",
       "      <th>update_motorcycle3</th>\n",
       "      <th>baseline_motorcycle4</th>\n",
       "      <th>update_motorcycle4</th>\n",
       "    </tr>\n",
       "  </thead>\n",
       "  <tbody>\n",
       "    <tr>\n",
       "      <th>mean</th>\n",
       "      <td>7.937768e+14</td>\n",
       "      <td>7.937768e+14</td>\n",
       "      <td>67531.300289</td>\n",
       "      <td>92489.323041</td>\n",
       "      <td>71206.078582</td>\n",
       "      <td>95797.861325</td>\n",
       "      <td>105434.386364</td>\n",
       "      <td>132059.727273</td>\n",
       "    </tr>\n",
       "    <tr>\n",
       "      <th>median</th>\n",
       "      <td>5.600000e+04</td>\n",
       "      <td>8.218850e+04</td>\n",
       "      <td>56141.000000</td>\n",
       "      <td>82119.000000</td>\n",
       "      <td>62932.000000</td>\n",
       "      <td>90602.000000</td>\n",
       "      <td>105271.000000</td>\n",
       "      <td>136092.000000</td>\n",
       "    </tr>\n",
       "  </tbody>\n",
       "</table>\n",
       "</div>"
      ],
      "text/plain": [
       "        baseline_motorcycle1  update_motorcycle1  baseline_motorcycle2  \\\n",
       "mean            7.937768e+14        7.937768e+14          67531.300289   \n",
       "median          5.600000e+04        8.218850e+04          56141.000000   \n",
       "\n",
       "        update_motorcycle2  baseline_motorcycle3  update_motorcycle3  \\\n",
       "mean          92489.323041          71206.078582        95797.861325   \n",
       "median        82119.000000          62932.000000        90602.000000   \n",
       "\n",
       "        baseline_motorcycle4  update_motorcycle4  \n",
       "mean           105434.386364       132059.727273  \n",
       "median         105271.000000       136092.000000  "
      ]
     },
     "metadata": {},
     "execution_count": 84
    }
   ],
   "metadata": {}
  },
  {
   "cell_type": "markdown",
   "source": [
    "**Our comments (Task 2.3 - continued):**\n",
    "\n",
    "The obtained values of the mean and median do seem plausible when looking at the boxplots. Thus, this does not mean that the values seem reasonable when talking about the real-world case and the big difference between mean and medians strongly imply that there are outliers present in the attributes of motorcycles 1-3. \n"
   ],
   "metadata": {}
  },
  {
   "cell_type": "markdown",
   "source": [
    "**Our comments (Task 2.3 - continued):**\n",
    "\n",
    "As evidently seen on the boxplots and investigations of mean and median values, the kilometrage variables are affected by outliers. The idea is to deal with these outliers and remove the corresponding rows (policies) in three different ways:\n",
    "\n",
    "1. check for negative values \n",
    "2. use the IQR-method\n",
    "3. after the above mentioned; qualitatively investigate the n-largest numbers within each row and manually evaluate whether they are plausible or not.\n"
   ],
   "metadata": {}
  },
  {
   "cell_type": "code",
   "execution_count": 85,
   "source": [
    "# simple check to see if any negative kilometrages were reported\n",
    "np.any(data.iloc[:, 2:10] < 0)"
   ],
   "outputs": [
    {
     "output_type": "execute_result",
     "data": {
      "text/plain": [
       "False"
      ]
     },
     "metadata": {},
     "execution_count": 85
    }
   ],
   "metadata": {}
  },
  {
   "cell_type": "markdown",
   "source": [
    "Apparently, none of the kilometrage columns contain any negative value, so we do not need to consider this case any further. \n",
    "\n",
    "To find outliers in a quantitive way, we chose to use the so-called interquartile range. For that, we first determine the interquartile range, which is the difference between the 75% and 25% percentile, and then regard any value as an outlier that is further than 1.5 that difference away from the 75% or 25% percentile, respectively. Our function get_outliers then calculates the ids of rows where outliers are present, and returns those ids, so we can then use them in the drop function for pandas DataFrames to drop the specific rows. "
   ],
   "metadata": {}
  },
  {
   "cell_type": "code",
   "execution_count": 86,
   "source": [
    "def get_outliers(part_of_df):\n",
    "    \"\"\" Filters out outliers that is more than 1.5 times lower than the 25% quantile and above 1.5 times higher than the \n",
    "    75% quantile.\n",
    "    \n",
    "    Input is the sub-dataframe consisting of the columns assosiacted with kilometrage data.\n",
    "    returns the indeces for rows that contains outliers.\n",
    "    \n",
    "    \"\"\"\n",
    "    \n",
    "    outlier_indeces = []\n",
    "    \n",
    "    # Looping through each column\n",
    "    for col_name in part_of_df:\n",
    "        series = part_of_df[col_name]\n",
    "        IQR = (series.quantile(0.75) - series.quantile(0.25)) \n",
    "        outlier_threshold = IQR * 1.5\n",
    "        \n",
    "        # calculating decision boundaries\n",
    "        lower = series.quantile(0.25)-outlier_threshold\n",
    "        upper = series.quantile(0.75)+outlier_threshold\n",
    "        \n",
    "        # Finds the union of outlier indeces from the previous column and the current column\n",
    "        outlier_indeces_series = np.union1d(series.index[series < lower], series.index[series > upper])\n",
    "        outlier_indeces = np.union1d(outlier_indeces, outlier_indeces_series)\n",
    "\n",
    "    return [int(x) for x in outlier_indeces]"
   ],
   "outputs": [],
   "metadata": {}
  },
  {
   "cell_type": "code",
   "execution_count": 87,
   "source": [
    "# Finding outliers from the kilometrage attributes\n",
    "outlier_ids = get_outliers(data.iloc[:, 2:10])\n",
    "data.loc[outlier_ids]"
   ],
   "outputs": [
    {
     "output_type": "execute_result",
     "data": {
      "text/html": [
       "<div>\n",
       "<style scoped>\n",
       "    .dataframe tbody tr th:only-of-type {\n",
       "        vertical-align: middle;\n",
       "    }\n",
       "\n",
       "    .dataframe tbody tr th {\n",
       "        vertical-align: top;\n",
       "    }\n",
       "\n",
       "    .dataframe thead th {\n",
       "        text-align: right;\n",
       "    }\n",
       "</style>\n",
       "<table border=\"1\" class=\"dataframe\">\n",
       "  <thead>\n",
       "    <tr style=\"text-align: right;\">\n",
       "      <th></th>\n",
       "      <th>condition</th>\n",
       "      <th>id</th>\n",
       "      <th>baseline_motorcycle1</th>\n",
       "      <th>update_motorcycle1</th>\n",
       "      <th>baseline_motorcycle2</th>\n",
       "      <th>update_motorcycle2</th>\n",
       "      <th>baseline_motorcycle3</th>\n",
       "      <th>update_motorcycle3</th>\n",
       "      <th>baseline_motorcycle4</th>\n",
       "      <th>update_motorcycle4</th>\n",
       "      <th>motorcycle_count</th>\n",
       "    </tr>\n",
       "  </thead>\n",
       "  <tbody>\n",
       "    <tr>\n",
       "      <th>43</th>\n",
       "      <td>Sign Bottom</td>\n",
       "      <td>43</td>\n",
       "      <td>119420</td>\n",
       "      <td>162182</td>\n",
       "      <td>210631.0</td>\n",
       "      <td>258131.0</td>\n",
       "      <td>NaN</td>\n",
       "      <td>NaN</td>\n",
       "      <td>NaN</td>\n",
       "      <td>NaN</td>\n",
       "      <td>2</td>\n",
       "    </tr>\n",
       "    <tr>\n",
       "      <th>49</th>\n",
       "      <td>Sign Top</td>\n",
       "      <td>49</td>\n",
       "      <td>117216</td>\n",
       "      <td>118351</td>\n",
       "      <td>206109.0</td>\n",
       "      <td>235937.0</td>\n",
       "      <td>NaN</td>\n",
       "      <td>NaN</td>\n",
       "      <td>NaN</td>\n",
       "      <td>NaN</td>\n",
       "      <td>2</td>\n",
       "    </tr>\n",
       "    <tr>\n",
       "      <th>91</th>\n",
       "      <td>Sign Bottom</td>\n",
       "      <td>8888888</td>\n",
       "      <td>36112</td>\n",
       "      <td>9999999999999999999</td>\n",
       "      <td>NaN</td>\n",
       "      <td>NaN</td>\n",
       "      <td>NaN</td>\n",
       "      <td>NaN</td>\n",
       "      <td>NaN</td>\n",
       "      <td>NaN</td>\n",
       "      <td>1</td>\n",
       "    </tr>\n",
       "    <tr>\n",
       "      <th>120</th>\n",
       "      <td>Sign Bottom</td>\n",
       "      <td>120</td>\n",
       "      <td>271738</td>\n",
       "      <td>281573</td>\n",
       "      <td>39993.0</td>\n",
       "      <td>52153.0</td>\n",
       "      <td>NaN</td>\n",
       "      <td>NaN</td>\n",
       "      <td>NaN</td>\n",
       "      <td>NaN</td>\n",
       "      <td>2</td>\n",
       "    </tr>\n",
       "    <tr>\n",
       "      <th>125</th>\n",
       "      <td>Sign Bottom</td>\n",
       "      <td>125</td>\n",
       "      <td>209713</td>\n",
       "      <td>213965</td>\n",
       "      <td>NaN</td>\n",
       "      <td>NaN</td>\n",
       "      <td>NaN</td>\n",
       "      <td>NaN</td>\n",
       "      <td>NaN</td>\n",
       "      <td>NaN</td>\n",
       "      <td>1</td>\n",
       "    </tr>\n",
       "    <tr>\n",
       "      <th>...</th>\n",
       "      <td>...</td>\n",
       "      <td>...</td>\n",
       "      <td>...</td>\n",
       "      <td>...</td>\n",
       "      <td>...</td>\n",
       "      <td>...</td>\n",
       "      <td>...</td>\n",
       "      <td>...</td>\n",
       "      <td>...</td>\n",
       "      <td>...</td>\n",
       "      <td>...</td>\n",
       "    </tr>\n",
       "    <tr>\n",
       "      <th>13269</th>\n",
       "      <td>Sign Top</td>\n",
       "      <td>13261</td>\n",
       "      <td>195272</td>\n",
       "      <td>221425</td>\n",
       "      <td>212088.0</td>\n",
       "      <td>256090.0</td>\n",
       "      <td>6711.0</td>\n",
       "      <td>34709.0</td>\n",
       "      <td>NaN</td>\n",
       "      <td>NaN</td>\n",
       "      <td>3</td>\n",
       "    </tr>\n",
       "    <tr>\n",
       "      <th>13323</th>\n",
       "      <td>Sign Top</td>\n",
       "      <td>13315</td>\n",
       "      <td>51016</td>\n",
       "      <td>72505</td>\n",
       "      <td>244058.0</td>\n",
       "      <td>249649.0</td>\n",
       "      <td>120336.0</td>\n",
       "      <td>162853.0</td>\n",
       "      <td>172906.0</td>\n",
       "      <td>221448.0</td>\n",
       "      <td>4</td>\n",
       "    </tr>\n",
       "    <tr>\n",
       "      <th>13334</th>\n",
       "      <td>Sign Bottom</td>\n",
       "      <td>13326</td>\n",
       "      <td>243000</td>\n",
       "      <td>251276</td>\n",
       "      <td>NaN</td>\n",
       "      <td>NaN</td>\n",
       "      <td>NaN</td>\n",
       "      <td>NaN</td>\n",
       "      <td>NaN</td>\n",
       "      <td>NaN</td>\n",
       "      <td>1</td>\n",
       "    </tr>\n",
       "    <tr>\n",
       "      <th>13371</th>\n",
       "      <td>Sign Top</td>\n",
       "      <td>13363</td>\n",
       "      <td>292569</td>\n",
       "      <td>317565</td>\n",
       "      <td>83024.0</td>\n",
       "      <td>124197.0</td>\n",
       "      <td>NaN</td>\n",
       "      <td>NaN</td>\n",
       "      <td>NaN</td>\n",
       "      <td>NaN</td>\n",
       "      <td>2</td>\n",
       "    </tr>\n",
       "    <tr>\n",
       "      <th>13455</th>\n",
       "      <td>Sign Top</td>\n",
       "      <td>13447</td>\n",
       "      <td>112821</td>\n",
       "      <td>142513</td>\n",
       "      <td>190986.0</td>\n",
       "      <td>240695.0</td>\n",
       "      <td>NaN</td>\n",
       "      <td>NaN</td>\n",
       "      <td>NaN</td>\n",
       "      <td>NaN</td>\n",
       "      <td>2</td>\n",
       "    </tr>\n",
       "  </tbody>\n",
       "</table>\n",
       "<p>412 rows × 11 columns</p>\n",
       "</div>"
      ],
      "text/plain": [
       "         condition       id  baseline_motorcycle1   update_motorcycle1  \\\n",
       "43     Sign Bottom       43                119420               162182   \n",
       "49        Sign Top       49                117216               118351   \n",
       "91     Sign Bottom  8888888                 36112  9999999999999999999   \n",
       "120    Sign Bottom      120                271738               281573   \n",
       "125    Sign Bottom      125                209713               213965   \n",
       "...            ...      ...                   ...                  ...   \n",
       "13269     Sign Top    13261                195272               221425   \n",
       "13323     Sign Top    13315                 51016                72505   \n",
       "13334  Sign Bottom    13326                243000               251276   \n",
       "13371     Sign Top    13363                292569               317565   \n",
       "13455     Sign Top    13447                112821               142513   \n",
       "\n",
       "       baseline_motorcycle2  update_motorcycle2  baseline_motorcycle3  \\\n",
       "43                 210631.0            258131.0                   NaN   \n",
       "49                 206109.0            235937.0                   NaN   \n",
       "91                      NaN                 NaN                   NaN   \n",
       "120                 39993.0             52153.0                   NaN   \n",
       "125                     NaN                 NaN                   NaN   \n",
       "...                     ...                 ...                   ...   \n",
       "13269              212088.0            256090.0                6711.0   \n",
       "13323              244058.0            249649.0              120336.0   \n",
       "13334                   NaN                 NaN                   NaN   \n",
       "13371               83024.0            124197.0                   NaN   \n",
       "13455              190986.0            240695.0                   NaN   \n",
       "\n",
       "       update_motorcycle3  baseline_motorcycle4  update_motorcycle4  \\\n",
       "43                    NaN                   NaN                 NaN   \n",
       "49                    NaN                   NaN                 NaN   \n",
       "91                    NaN                   NaN                 NaN   \n",
       "120                   NaN                   NaN                 NaN   \n",
       "125                   NaN                   NaN                 NaN   \n",
       "...                   ...                   ...                 ...   \n",
       "13269             34709.0                   NaN                 NaN   \n",
       "13323            162853.0              172906.0            221448.0   \n",
       "13334                 NaN                   NaN                 NaN   \n",
       "13371                 NaN                   NaN                 NaN   \n",
       "13455                 NaN                   NaN                 NaN   \n",
       "\n",
       "       motorcycle_count  \n",
       "43                    2  \n",
       "49                    2  \n",
       "91                    1  \n",
       "120                   2  \n",
       "125                   1  \n",
       "...                 ...  \n",
       "13269                 3  \n",
       "13323                 4  \n",
       "13334                 1  \n",
       "13371                 2  \n",
       "13455                 2  \n",
       "\n",
       "[412 rows x 11 columns]"
      ]
     },
     "metadata": {},
     "execution_count": 87
    }
   ],
   "metadata": {}
  },
  {
   "cell_type": "code",
   "execution_count": 88,
   "source": [
    "# remove outlier policies from data\n",
    "data = data.drop(outlier_ids)\n",
    "data"
   ],
   "outputs": [
    {
     "output_type": "execute_result",
     "data": {
      "text/html": [
       "<div>\n",
       "<style scoped>\n",
       "    .dataframe tbody tr th:only-of-type {\n",
       "        vertical-align: middle;\n",
       "    }\n",
       "\n",
       "    .dataframe tbody tr th {\n",
       "        vertical-align: top;\n",
       "    }\n",
       "\n",
       "    .dataframe thead th {\n",
       "        text-align: right;\n",
       "    }\n",
       "</style>\n",
       "<table border=\"1\" class=\"dataframe\">\n",
       "  <thead>\n",
       "    <tr style=\"text-align: right;\">\n",
       "      <th></th>\n",
       "      <th>condition</th>\n",
       "      <th>id</th>\n",
       "      <th>baseline_motorcycle1</th>\n",
       "      <th>update_motorcycle1</th>\n",
       "      <th>baseline_motorcycle2</th>\n",
       "      <th>update_motorcycle2</th>\n",
       "      <th>baseline_motorcycle3</th>\n",
       "      <th>update_motorcycle3</th>\n",
       "      <th>baseline_motorcycle4</th>\n",
       "      <th>update_motorcycle4</th>\n",
       "      <th>motorcycle_count</th>\n",
       "    </tr>\n",
       "  </thead>\n",
       "  <tbody>\n",
       "    <tr>\n",
       "      <th>0</th>\n",
       "      <td>Sign Top</td>\n",
       "      <td>1</td>\n",
       "      <td>896</td>\n",
       "      <td>39198</td>\n",
       "      <td>NaN</td>\n",
       "      <td>NaN</td>\n",
       "      <td>NaN</td>\n",
       "      <td>NaN</td>\n",
       "      <td>NaN</td>\n",
       "      <td>NaN</td>\n",
       "      <td>1</td>\n",
       "    </tr>\n",
       "    <tr>\n",
       "      <th>1</th>\n",
       "      <td>Sign Bottom</td>\n",
       "      <td>2</td>\n",
       "      <td>21396</td>\n",
       "      <td>63511</td>\n",
       "      <td>32659.0</td>\n",
       "      <td>47605.0</td>\n",
       "      <td>NaN</td>\n",
       "      <td>NaN</td>\n",
       "      <td>NaN</td>\n",
       "      <td>NaN</td>\n",
       "      <td>2</td>\n",
       "    </tr>\n",
       "    <tr>\n",
       "      <th>2</th>\n",
       "      <td>Sign Bottom</td>\n",
       "      <td>3</td>\n",
       "      <td>21340</td>\n",
       "      <td>37460</td>\n",
       "      <td>44998.0</td>\n",
       "      <td>59002.0</td>\n",
       "      <td>NaN</td>\n",
       "      <td>NaN</td>\n",
       "      <td>NaN</td>\n",
       "      <td>NaN</td>\n",
       "      <td>2</td>\n",
       "    </tr>\n",
       "    <tr>\n",
       "      <th>3</th>\n",
       "      <td>Sign Bottom</td>\n",
       "      <td>4</td>\n",
       "      <td>23912</td>\n",
       "      <td>59136</td>\n",
       "      <td>NaN</td>\n",
       "      <td>NaN</td>\n",
       "      <td>NaN</td>\n",
       "      <td>NaN</td>\n",
       "      <td>NaN</td>\n",
       "      <td>NaN</td>\n",
       "      <td>1</td>\n",
       "    </tr>\n",
       "    <tr>\n",
       "      <th>4</th>\n",
       "      <td>Sign Bottom</td>\n",
       "      <td>5</td>\n",
       "      <td>16862</td>\n",
       "      <td>59292</td>\n",
       "      <td>NaN</td>\n",
       "      <td>NaN</td>\n",
       "      <td>NaN</td>\n",
       "      <td>NaN</td>\n",
       "      <td>NaN</td>\n",
       "      <td>NaN</td>\n",
       "      <td>1</td>\n",
       "    </tr>\n",
       "    <tr>\n",
       "      <th>...</th>\n",
       "      <td>...</td>\n",
       "      <td>...</td>\n",
       "      <td>...</td>\n",
       "      <td>...</td>\n",
       "      <td>...</td>\n",
       "      <td>...</td>\n",
       "      <td>...</td>\n",
       "      <td>...</td>\n",
       "      <td>...</td>\n",
       "      <td>...</td>\n",
       "      <td>...</td>\n",
       "    </tr>\n",
       "    <tr>\n",
       "      <th>13491</th>\n",
       "      <td>Sign Bottom</td>\n",
       "      <td>13483</td>\n",
       "      <td>32050</td>\n",
       "      <td>33346</td>\n",
       "      <td>NaN</td>\n",
       "      <td>NaN</td>\n",
       "      <td>NaN</td>\n",
       "      <td>NaN</td>\n",
       "      <td>NaN</td>\n",
       "      <td>NaN</td>\n",
       "      <td>1</td>\n",
       "    </tr>\n",
       "    <tr>\n",
       "      <th>13492</th>\n",
       "      <td>Sign Top</td>\n",
       "      <td>13484</td>\n",
       "      <td>20970</td>\n",
       "      <td>61552</td>\n",
       "      <td>42391.0</td>\n",
       "      <td>46815.0</td>\n",
       "      <td>NaN</td>\n",
       "      <td>NaN</td>\n",
       "      <td>NaN</td>\n",
       "      <td>NaN</td>\n",
       "      <td>2</td>\n",
       "    </tr>\n",
       "    <tr>\n",
       "      <th>13494</th>\n",
       "      <td>Sign Bottom</td>\n",
       "      <td>13486</td>\n",
       "      <td>30700</td>\n",
       "      <td>32916</td>\n",
       "      <td>89680.0</td>\n",
       "      <td>139570.0</td>\n",
       "      <td>NaN</td>\n",
       "      <td>NaN</td>\n",
       "      <td>NaN</td>\n",
       "      <td>NaN</td>\n",
       "      <td>2</td>\n",
       "    </tr>\n",
       "    <tr>\n",
       "      <th>13495</th>\n",
       "      <td>Sign Top</td>\n",
       "      <td>13487</td>\n",
       "      <td>29884</td>\n",
       "      <td>35459</td>\n",
       "      <td>NaN</td>\n",
       "      <td>NaN</td>\n",
       "      <td>NaN</td>\n",
       "      <td>NaN</td>\n",
       "      <td>NaN</td>\n",
       "      <td>NaN</td>\n",
       "      <td>1</td>\n",
       "    </tr>\n",
       "    <tr>\n",
       "      <th>13496</th>\n",
       "      <td>Sign Top</td>\n",
       "      <td>13488</td>\n",
       "      <td>22930</td>\n",
       "      <td>37888</td>\n",
       "      <td>NaN</td>\n",
       "      <td>NaN</td>\n",
       "      <td>NaN</td>\n",
       "      <td>NaN</td>\n",
       "      <td>NaN</td>\n",
       "      <td>NaN</td>\n",
       "      <td>1</td>\n",
       "    </tr>\n",
       "  </tbody>\n",
       "</table>\n",
       "<p>12186 rows × 11 columns</p>\n",
       "</div>"
      ],
      "text/plain": [
       "         condition     id  baseline_motorcycle1  update_motorcycle1  \\\n",
       "0         Sign Top      1                   896               39198   \n",
       "1      Sign Bottom      2                 21396               63511   \n",
       "2      Sign Bottom      3                 21340               37460   \n",
       "3      Sign Bottom      4                 23912               59136   \n",
       "4      Sign Bottom      5                 16862               59292   \n",
       "...            ...    ...                   ...                 ...   \n",
       "13491  Sign Bottom  13483                 32050               33346   \n",
       "13492     Sign Top  13484                 20970               61552   \n",
       "13494  Sign Bottom  13486                 30700               32916   \n",
       "13495     Sign Top  13487                 29884               35459   \n",
       "13496     Sign Top  13488                 22930               37888   \n",
       "\n",
       "       baseline_motorcycle2  update_motorcycle2  baseline_motorcycle3  \\\n",
       "0                       NaN                 NaN                   NaN   \n",
       "1                   32659.0             47605.0                   NaN   \n",
       "2                   44998.0             59002.0                   NaN   \n",
       "3                       NaN                 NaN                   NaN   \n",
       "4                       NaN                 NaN                   NaN   \n",
       "...                     ...                 ...                   ...   \n",
       "13491                   NaN                 NaN                   NaN   \n",
       "13492               42391.0             46815.0                   NaN   \n",
       "13494               89680.0            139570.0                   NaN   \n",
       "13495                   NaN                 NaN                   NaN   \n",
       "13496                   NaN                 NaN                   NaN   \n",
       "\n",
       "       update_motorcycle3  baseline_motorcycle4  update_motorcycle4  \\\n",
       "0                     NaN                   NaN                 NaN   \n",
       "1                     NaN                   NaN                 NaN   \n",
       "2                     NaN                   NaN                 NaN   \n",
       "3                     NaN                   NaN                 NaN   \n",
       "4                     NaN                   NaN                 NaN   \n",
       "...                   ...                   ...                 ...   \n",
       "13491                 NaN                   NaN                 NaN   \n",
       "13492                 NaN                   NaN                 NaN   \n",
       "13494                 NaN                   NaN                 NaN   \n",
       "13495                 NaN                   NaN                 NaN   \n",
       "13496                 NaN                   NaN                 NaN   \n",
       "\n",
       "       motorcycle_count  \n",
       "0                     1  \n",
       "1                     2  \n",
       "2                     2  \n",
       "3                     1  \n",
       "4                     1  \n",
       "...                 ...  \n",
       "13491                 1  \n",
       "13492                 2  \n",
       "13494                 2  \n",
       "13495                 1  \n",
       "13496                 1  \n",
       "\n",
       "[12186 rows x 11 columns]"
      ]
     },
     "metadata": {},
     "execution_count": 88
    }
   ],
   "metadata": {}
  },
  {
   "cell_type": "code",
   "execution_count": 89,
   "source": [
    "data.shape"
   ],
   "outputs": [
    {
     "output_type": "execute_result",
     "data": {
      "text/plain": [
       "(12186, 11)"
      ]
     },
     "metadata": {},
     "execution_count": 89
    }
   ],
   "metadata": {}
  },
  {
   "cell_type": "markdown",
   "source": [
    "So in total `13497 - 12186 = 1311` policies were removed due to either being outliers or not satisfying the specified requirements."
   ],
   "metadata": {}
  },
  {
   "cell_type": "markdown",
   "source": [
    "**Our comments:**\n",
    "\n",
    "By looking at the boxplots after removing outliers based on the IQR method there does not seem to be as much skewness in the data distribution as before. This is further seen from the mean and median values (can be found below the boxplots) that are much more similar than before. It seems like there is some increase in reported kilometrages for the updated motorcycles compared to the baseline. Also it is seen that the distribution of the reported kilometrages for motorcycle4 is in general a bit higher - both in regards to the baseline and the updated report. Thus a potential hypothesis is that people with 4 motorcycles tend to ride their last registered (4th) motorcycle more than the other ones. "
   ],
   "metadata": {}
  },
  {
   "cell_type": "code",
   "execution_count": 90,
   "source": [
    "stats_after = plot_boxplots(data, return_stats=True)"
   ],
   "outputs": [
    {
     "output_type": "display_data",
     "data": {
      "image/png": "[encoded data removed]",
      "text/plain": [
       "<Figure size 1152x864 with 8 Axes>"
      ]
     },
     "metadata": {
      "needs_background": "light"
     }
    },
    {
     "output_type": "display_data",
     "data": {
      "image/png": "[encoded data removed]",
      "text/plain": [
       "<Figure size 1080x288 with 1 Axes>"
      ]
     },
     "metadata": {
      "needs_background": "light"
     }
    }
   ],
   "metadata": {}
  },
  {
   "cell_type": "code",
   "execution_count": 91,
   "source": [
    "stats_after"
   ],
   "outputs": [
    {
     "output_type": "execute_result",
     "data": {
      "text/html": [
       "<div>\n",
       "<style scoped>\n",
       "    .dataframe tbody tr th:only-of-type {\n",
       "        vertical-align: middle;\n",
       "    }\n",
       "\n",
       "    .dataframe tbody tr th {\n",
       "        vertical-align: top;\n",
       "    }\n",
       "\n",
       "    .dataframe thead th {\n",
       "        text-align: right;\n",
       "    }\n",
       "</style>\n",
       "<table border=\"1\" class=\"dataframe\">\n",
       "  <thead>\n",
       "    <tr style=\"text-align: right;\">\n",
       "      <th></th>\n",
       "      <th>baseline_motorcycle1</th>\n",
       "      <th>update_motorcycle1</th>\n",
       "      <th>baseline_motorcycle2</th>\n",
       "      <th>update_motorcycle2</th>\n",
       "      <th>baseline_motorcycle3</th>\n",
       "      <th>update_motorcycle3</th>\n",
       "      <th>baseline_motorcycle4</th>\n",
       "      <th>update_motorcycle4</th>\n",
       "    </tr>\n",
       "  </thead>\n",
       "  <tbody>\n",
       "    <tr>\n",
       "      <th>mean</th>\n",
       "      <td>62447.368538</td>\n",
       "      <td>87333.940341</td>\n",
       "      <td>62476.752798</td>\n",
       "      <td>87376.070954</td>\n",
       "      <td>65507.767285</td>\n",
       "      <td>89832.128162</td>\n",
       "      <td>95622.657895</td>\n",
       "      <td>122373.131579</td>\n",
       "    </tr>\n",
       "    <tr>\n",
       "      <th>median</th>\n",
       "      <td>54482.000000</td>\n",
       "      <td>80082.500000</td>\n",
       "      <td>54430.000000</td>\n",
       "      <td>79876.000000</td>\n",
       "      <td>61175.000000</td>\n",
       "      <td>87184.000000</td>\n",
       "      <td>99032.500000</td>\n",
       "      <td>128087.500000</td>\n",
       "    </tr>\n",
       "  </tbody>\n",
       "</table>\n",
       "</div>"
      ],
      "text/plain": [
       "        baseline_motorcycle1  update_motorcycle1  baseline_motorcycle2  \\\n",
       "mean            62447.368538        87333.940341          62476.752798   \n",
       "median          54482.000000        80082.500000          54430.000000   \n",
       "\n",
       "        update_motorcycle2  baseline_motorcycle3  update_motorcycle3  \\\n",
       "mean          87376.070954          65507.767285        89832.128162   \n",
       "median        79876.000000          61175.000000        87184.000000   \n",
       "\n",
       "        baseline_motorcycle4  update_motorcycle4  \n",
       "mean            95622.657895       122373.131579  \n",
       "median          99032.500000       128087.500000  "
      ]
     },
     "metadata": {},
     "execution_count": 91
    }
   ],
   "metadata": {}
  },
  {
   "cell_type": "markdown",
   "source": [
    "**Our comments:**\n",
    "\n",
    "As a last check a qualitative analysis of the data is made. We define a function for finding the `n` most extreme (meaning either the largest or lowest) values within each attribute with information about kilometrages. This function will be applied to the dataframe with outliers from the IQR method are already removed and provides for an extra check and qualitative reasoning. Whether the largest or lowest values are regarded depends on the boolean value of the parameter `ascending`. As an output a dataframe of the n extreme values are created with indeces corresponding to the n'th largest value."
   ],
   "metadata": {}
  },
  {
   "cell_type": "code",
   "execution_count": 92,
   "source": [
    "# function for finding the n_largest reported kilometrages for each column\n",
    "\n",
    "def findNextremes_each_col(n=5, ascending=False):\n",
    "    \"\"\"returns n largest/smallest values for each axis in data\"\"\"\n",
    "    n_largest_matrix = np.empty((n, 8))\n",
    "    \n",
    "    column_names = data.iloc[:,1:9].columns\n",
    "    for i, column_name in enumerate(column_names):\n",
    "        sorted_vals = data[column_name].sort_values(ascending=ascending)[:n]\n",
    "        n_largest_matrix.T[i] = sorted_vals\n",
    "    \n",
    "    n_largest = pd.DataFrame(n_largest_matrix, index=[np.arange(n)+1])\n",
    "    n_largest.columns = column_names\n",
    "    return n_largest\n",
    "    "
   ],
   "outputs": [],
   "metadata": {}
  },
  {
   "cell_type": "code",
   "execution_count": 93,
   "source": [
    "# n largest values in each col for qualitative analysis of outliers\n",
    "findNextremes_each_col(n=10, ascending=False)"
   ],
   "outputs": [
    {
     "output_type": "execute_result",
     "data": {
      "text/html": [
       "<div>\n",
       "<style scoped>\n",
       "    .dataframe tbody tr th:only-of-type {\n",
       "        vertical-align: middle;\n",
       "    }\n",
       "\n",
       "    .dataframe tbody tr th {\n",
       "        vertical-align: top;\n",
       "    }\n",
       "\n",
       "    .dataframe thead th {\n",
       "        text-align: right;\n",
       "    }\n",
       "</style>\n",
       "<table border=\"1\" class=\"dataframe\">\n",
       "  <thead>\n",
       "    <tr style=\"text-align: right;\">\n",
       "      <th></th>\n",
       "      <th>id</th>\n",
       "      <th>baseline_motorcycle1</th>\n",
       "      <th>update_motorcycle1</th>\n",
       "      <th>baseline_motorcycle2</th>\n",
       "      <th>update_motorcycle2</th>\n",
       "      <th>baseline_motorcycle3</th>\n",
       "      <th>update_motorcycle3</th>\n",
       "      <th>baseline_motorcycle4</th>\n",
       "    </tr>\n",
       "  </thead>\n",
       "  <tbody>\n",
       "    <tr>\n",
       "      <th>1</th>\n",
       "      <td>13488.0</td>\n",
       "      <td>202217.0</td>\n",
       "      <td>232748.0</td>\n",
       "      <td>204942.0</td>\n",
       "      <td>230041.0</td>\n",
       "      <td>200865.0</td>\n",
       "      <td>246935.0</td>\n",
       "      <td>148268.0</td>\n",
       "    </tr>\n",
       "    <tr>\n",
       "      <th>2</th>\n",
       "      <td>13487.0</td>\n",
       "      <td>201755.0</td>\n",
       "      <td>232729.0</td>\n",
       "      <td>203983.0</td>\n",
       "      <td>229865.0</td>\n",
       "      <td>200000.0</td>\n",
       "      <td>240374.0</td>\n",
       "      <td>147822.0</td>\n",
       "    </tr>\n",
       "    <tr>\n",
       "      <th>3</th>\n",
       "      <td>13486.0</td>\n",
       "      <td>201217.0</td>\n",
       "      <td>231356.0</td>\n",
       "      <td>203808.0</td>\n",
       "      <td>229852.0</td>\n",
       "      <td>195280.0</td>\n",
       "      <td>229977.0</td>\n",
       "      <td>147750.0</td>\n",
       "    </tr>\n",
       "    <tr>\n",
       "      <th>4</th>\n",
       "      <td>13484.0</td>\n",
       "      <td>200873.0</td>\n",
       "      <td>231293.0</td>\n",
       "      <td>203568.0</td>\n",
       "      <td>229633.0</td>\n",
       "      <td>195000.0</td>\n",
       "      <td>229285.0</td>\n",
       "      <td>147569.0</td>\n",
       "    </tr>\n",
       "    <tr>\n",
       "      <th>5</th>\n",
       "      <td>13483.0</td>\n",
       "      <td>200776.0</td>\n",
       "      <td>230964.0</td>\n",
       "      <td>203457.0</td>\n",
       "      <td>229589.0</td>\n",
       "      <td>194326.0</td>\n",
       "      <td>227253.0</td>\n",
       "      <td>146367.0</td>\n",
       "    </tr>\n",
       "    <tr>\n",
       "      <th>6</th>\n",
       "      <td>13482.0</td>\n",
       "      <td>200687.0</td>\n",
       "      <td>230573.0</td>\n",
       "      <td>203449.0</td>\n",
       "      <td>229529.0</td>\n",
       "      <td>193704.0</td>\n",
       "      <td>225114.0</td>\n",
       "      <td>146241.0</td>\n",
       "    </tr>\n",
       "    <tr>\n",
       "      <th>7</th>\n",
       "      <td>13480.0</td>\n",
       "      <td>200531.0</td>\n",
       "      <td>230387.0</td>\n",
       "      <td>203240.0</td>\n",
       "      <td>229440.0</td>\n",
       "      <td>192445.0</td>\n",
       "      <td>224732.0</td>\n",
       "      <td>146000.0</td>\n",
       "    </tr>\n",
       "    <tr>\n",
       "      <th>8</th>\n",
       "      <td>13479.0</td>\n",
       "      <td>200454.0</td>\n",
       "      <td>230048.0</td>\n",
       "      <td>202691.0</td>\n",
       "      <td>229114.0</td>\n",
       "      <td>192331.0</td>\n",
       "      <td>224641.0</td>\n",
       "      <td>145681.0</td>\n",
       "    </tr>\n",
       "    <tr>\n",
       "      <th>9</th>\n",
       "      <td>13477.0</td>\n",
       "      <td>200334.0</td>\n",
       "      <td>229756.0</td>\n",
       "      <td>202580.0</td>\n",
       "      <td>228647.0</td>\n",
       "      <td>192144.0</td>\n",
       "      <td>223326.0</td>\n",
       "      <td>143617.0</td>\n",
       "    </tr>\n",
       "    <tr>\n",
       "      <th>10</th>\n",
       "      <td>13476.0</td>\n",
       "      <td>200302.0</td>\n",
       "      <td>229637.0</td>\n",
       "      <td>202450.0</td>\n",
       "      <td>228428.0</td>\n",
       "      <td>191741.0</td>\n",
       "      <td>220715.0</td>\n",
       "      <td>143537.0</td>\n",
       "    </tr>\n",
       "  </tbody>\n",
       "</table>\n",
       "</div>"
      ],
      "text/plain": [
       "         id  baseline_motorcycle1  update_motorcycle1  baseline_motorcycle2  \\\n",
       "1   13488.0              202217.0            232748.0              204942.0   \n",
       "2   13487.0              201755.0            232729.0              203983.0   \n",
       "3   13486.0              201217.0            231356.0              203808.0   \n",
       "4   13484.0              200873.0            231293.0              203568.0   \n",
       "5   13483.0              200776.0            230964.0              203457.0   \n",
       "6   13482.0              200687.0            230573.0              203449.0   \n",
       "7   13480.0              200531.0            230387.0              203240.0   \n",
       "8   13479.0              200454.0            230048.0              202691.0   \n",
       "9   13477.0              200334.0            229756.0              202580.0   \n",
       "10  13476.0              200302.0            229637.0              202450.0   \n",
       "\n",
       "    update_motorcycle2  baseline_motorcycle3  update_motorcycle3  \\\n",
       "1             230041.0              200865.0            246935.0   \n",
       "2             229865.0              200000.0            240374.0   \n",
       "3             229852.0              195280.0            229977.0   \n",
       "4             229633.0              195000.0            229285.0   \n",
       "5             229589.0              194326.0            227253.0   \n",
       "6             229529.0              193704.0            225114.0   \n",
       "7             229440.0              192445.0            224732.0   \n",
       "8             229114.0              192331.0            224641.0   \n",
       "9             228647.0              192144.0            223326.0   \n",
       "10            228428.0              191741.0            220715.0   \n",
       "\n",
       "    baseline_motorcycle4  \n",
       "1               148268.0  \n",
       "2               147822.0  \n",
       "3               147750.0  \n",
       "4               147569.0  \n",
       "5               146367.0  \n",
       "6               146241.0  \n",
       "7               146000.0  \n",
       "8               145681.0  \n",
       "9               143617.0  \n",
       "10              143537.0  "
      ]
     },
     "metadata": {},
     "execution_count": 93
    }
   ],
   "metadata": {}
  },
  {
   "cell_type": "code",
   "execution_count": 94,
   "source": [
    "findNextremes_each_col(n=10, ascending=True)"
   ],
   "outputs": [
    {
     "output_type": "execute_result",
     "data": {
      "text/html": [
       "<div>\n",
       "<style scoped>\n",
       "    .dataframe tbody tr th:only-of-type {\n",
       "        vertical-align: middle;\n",
       "    }\n",
       "\n",
       "    .dataframe tbody tr th {\n",
       "        vertical-align: top;\n",
       "    }\n",
       "\n",
       "    .dataframe thead th {\n",
       "        text-align: right;\n",
       "    }\n",
       "</style>\n",
       "<table border=\"1\" class=\"dataframe\">\n",
       "  <thead>\n",
       "    <tr style=\"text-align: right;\">\n",
       "      <th></th>\n",
       "      <th>id</th>\n",
       "      <th>baseline_motorcycle1</th>\n",
       "      <th>update_motorcycle1</th>\n",
       "      <th>baseline_motorcycle2</th>\n",
       "      <th>update_motorcycle2</th>\n",
       "      <th>baseline_motorcycle3</th>\n",
       "      <th>update_motorcycle3</th>\n",
       "      <th>baseline_motorcycle4</th>\n",
       "    </tr>\n",
       "  </thead>\n",
       "  <tbody>\n",
       "    <tr>\n",
       "      <th>1</th>\n",
       "      <td>1.0</td>\n",
       "      <td>0.0</td>\n",
       "      <td>42.0</td>\n",
       "      <td>0.0</td>\n",
       "      <td>116.0</td>\n",
       "      <td>0.0</td>\n",
       "      <td>644.0</td>\n",
       "      <td>14255.0</td>\n",
       "    </tr>\n",
       "    <tr>\n",
       "      <th>2</th>\n",
       "      <td>2.0</td>\n",
       "      <td>0.0</td>\n",
       "      <td>82.0</td>\n",
       "      <td>0.0</td>\n",
       "      <td>845.0</td>\n",
       "      <td>0.0</td>\n",
       "      <td>794.0</td>\n",
       "      <td>14862.0</td>\n",
       "    </tr>\n",
       "    <tr>\n",
       "      <th>3</th>\n",
       "      <td>3.0</td>\n",
       "      <td>0.0</td>\n",
       "      <td>125.0</td>\n",
       "      <td>0.0</td>\n",
       "      <td>1020.0</td>\n",
       "      <td>0.0</td>\n",
       "      <td>1093.0</td>\n",
       "      <td>17911.0</td>\n",
       "    </tr>\n",
       "    <tr>\n",
       "      <th>4</th>\n",
       "      <td>4.0</td>\n",
       "      <td>0.0</td>\n",
       "      <td>603.0</td>\n",
       "      <td>0.0</td>\n",
       "      <td>1151.0</td>\n",
       "      <td>0.0</td>\n",
       "      <td>1626.0</td>\n",
       "      <td>18711.0</td>\n",
       "    </tr>\n",
       "    <tr>\n",
       "      <th>5</th>\n",
       "      <td>5.0</td>\n",
       "      <td>0.0</td>\n",
       "      <td>628.0</td>\n",
       "      <td>0.0</td>\n",
       "      <td>1298.0</td>\n",
       "      <td>0.0</td>\n",
       "      <td>1744.0</td>\n",
       "      <td>33864.0</td>\n",
       "    </tr>\n",
       "    <tr>\n",
       "      <th>6</th>\n",
       "      <td>6.0</td>\n",
       "      <td>0.0</td>\n",
       "      <td>705.0</td>\n",
       "      <td>0.0</td>\n",
       "      <td>1301.0</td>\n",
       "      <td>0.0</td>\n",
       "      <td>2656.0</td>\n",
       "      <td>33985.0</td>\n",
       "    </tr>\n",
       "    <tr>\n",
       "      <th>7</th>\n",
       "      <td>7.0</td>\n",
       "      <td>0.0</td>\n",
       "      <td>761.0</td>\n",
       "      <td>0.0</td>\n",
       "      <td>1563.0</td>\n",
       "      <td>5.0</td>\n",
       "      <td>3517.0</td>\n",
       "      <td>39000.0</td>\n",
       "    </tr>\n",
       "    <tr>\n",
       "      <th>8</th>\n",
       "      <td>8.0</td>\n",
       "      <td>0.0</td>\n",
       "      <td>820.0</td>\n",
       "      <td>0.0</td>\n",
       "      <td>1900.0</td>\n",
       "      <td>5.0</td>\n",
       "      <td>3967.0</td>\n",
       "      <td>39364.0</td>\n",
       "    </tr>\n",
       "    <tr>\n",
       "      <th>9</th>\n",
       "      <td>9.0</td>\n",
       "      <td>0.0</td>\n",
       "      <td>876.0</td>\n",
       "      <td>0.0</td>\n",
       "      <td>1910.0</td>\n",
       "      <td>6.0</td>\n",
       "      <td>5168.0</td>\n",
       "      <td>64428.0</td>\n",
       "    </tr>\n",
       "    <tr>\n",
       "      <th>10</th>\n",
       "      <td>10.0</td>\n",
       "      <td>0.0</td>\n",
       "      <td>927.0</td>\n",
       "      <td>0.0</td>\n",
       "      <td>2174.0</td>\n",
       "      <td>6.0</td>\n",
       "      <td>5631.0</td>\n",
       "      <td>64784.0</td>\n",
       "    </tr>\n",
       "  </tbody>\n",
       "</table>\n",
       "</div>"
      ],
      "text/plain": [
       "      id  baseline_motorcycle1  update_motorcycle1  baseline_motorcycle2  \\\n",
       "1    1.0                   0.0                42.0                   0.0   \n",
       "2    2.0                   0.0                82.0                   0.0   \n",
       "3    3.0                   0.0               125.0                   0.0   \n",
       "4    4.0                   0.0               603.0                   0.0   \n",
       "5    5.0                   0.0               628.0                   0.0   \n",
       "6    6.0                   0.0               705.0                   0.0   \n",
       "7    7.0                   0.0               761.0                   0.0   \n",
       "8    8.0                   0.0               820.0                   0.0   \n",
       "9    9.0                   0.0               876.0                   0.0   \n",
       "10  10.0                   0.0               927.0                   0.0   \n",
       "\n",
       "    update_motorcycle2  baseline_motorcycle3  update_motorcycle3  \\\n",
       "1                116.0                   0.0               644.0   \n",
       "2                845.0                   0.0               794.0   \n",
       "3               1020.0                   0.0              1093.0   \n",
       "4               1151.0                   0.0              1626.0   \n",
       "5               1298.0                   0.0              1744.0   \n",
       "6               1301.0                   0.0              2656.0   \n",
       "7               1563.0                   5.0              3517.0   \n",
       "8               1900.0                   5.0              3967.0   \n",
       "9               1910.0                   6.0              5168.0   \n",
       "10              2174.0                   6.0              5631.0   \n",
       "\n",
       "    baseline_motorcycle4  \n",
       "1                14255.0  \n",
       "2                14862.0  \n",
       "3                17911.0  \n",
       "4                18711.0  \n",
       "5                33864.0  \n",
       "6                33985.0  \n",
       "7                39000.0  \n",
       "8                39364.0  \n",
       "9                64428.0  \n",
       "10               64784.0  "
      ]
     },
     "metadata": {},
     "execution_count": 94
    }
   ],
   "metadata": {}
  },
  {
   "cell_type": "markdown",
   "source": [
    "**Our comments(Task 2.3 - continued):**\n",
    "\n",
    "From the first dataframes (of largest values) it does not seem like there are any more outliers in the high end, as it seems plausible to drive around 140.000-220.000 kilometers per year.\n",
    "\n",
    "In regards to the second dataframe (of lower values) it is seen that the baseline_motorcycles mostly report quite low values of kilometrages. Many of these policies have 0 as the reported number of kilometrages. It is up for discussion whether these values makes sense or should be regarded as outliers - does it imply that people try to cheat with their reportings or could it just be due to the fact that the motorcycle from the baseline were newly bought in the previous year? We believe that most policy-owners of these policies are honest people and therefore follow the second explanation, which is why we do not regard a low reportage of kilometrages as outliers. \n",
    "\n",
    "Furthermore, depending on where the data is from, some people might buy and register a motercycle in autumn because it often is cheaper to buy out of season. This also means that you would not ride the bike before spring next year resulting in a 0 reported kilometrage. Using this logic, people would never have a baseline of 0 and an update of 0 unless they cheat. Noone buys a bike in the winter and does not ride it the next spring. \n",
    "\n"
   ],
   "metadata": {}
  },
  {
   "cell_type": "markdown",
   "source": [
    "---"
   ],
   "metadata": {}
  },
  {
   "cell_type": "markdown",
   "source": [
    "**Our comments (Task 2.4):**\n",
    "\n",
    "Outliers tend to influence the mean a lot while the median is somewhat uninfluenced. As the median marks the 50 % Quantile (i.e. the value for which 50 % of the values are smaller and 50 % of the values are larger), it does not take into account how big (or small) an outlier is, as it is still just one datapoint. While for the mean, an outlier being a thousand times bigger than the rest of the data can influence it to be even bigger than the second biggest number in the data, as they are all summed together. Therefore, we always want to determine whether a number is an outlier based on quantiles.\n",
    "\n",
    "\n"
   ],
   "metadata": {}
  },
  {
   "cell_type": "markdown",
   "source": [
    "### Task 3 — 12pts\n",
    "\n",
    "One of the challenges with the current data is that it is not clear how to handle policies with multiple motorcycles.\n",
    "\n",
    "1. Create three additional columns in the dataframe, `baseline_average`, `update_average`, and `diff_average`. These \n",
    "should contain, respectively, the average value for `baseline_motorcycle[1-4]` for all motorcycles insured; the average\n",
    " value for `update_motorcycle[1-4]`; and the difference between the average updated value and the average baseline \n",
    " value.\n",
    "2. **Discuss:** Propose another way of aggregating distinct motorcycles from a single policy. Point out a way in which \n",
    "this aggregation may be either better or worse than taking the average for the purpose of comparing the two scenarios in\n",
    " the study (sign at the top vs. sign at the bottom).\n",
    "3. To get a sense of the impact that policies with multiple motorcycles may have in the study, let's perform some \n",
    "additional analyses. Plot the distribution of motorcycles per policy in the data. Your plot should allow for the \n",
    "meaningful comparison of the values shown.\n",
    "4. In 3.1, you calculated the average kilometrage for each policy for the updated contract. Calculate the mean and the \n",
    "standard deviation of these values (which should be in the column `update_average`).\n",
    "5. Another meaningful metric is the average kilometrage **per motorcycle**, not distinguishing motorcycles in different \n",
    "policies (i.e., pooled across policies). **Considering only policies with 4 motorcycles insured,** calculate the mean \n",
    "and the standard deviation of the kilometrage per motorcycle in the updated contract.\n",
    "6. **Discuss:** To analyze whether signing at the top decreases dishonesty, we could consider the data in different \n",
    "ways. We could first calculate the average value per motorcycle within each policy and have one data point per policy \n",
    "**or** we could analyze the data at the motorcycle level and have one data point per motorcycle in the dataset. \n",
    "According to questions 3.4 and 3.5, how may this decision influence the results of the study?\n",
    "---"
   ],
   "metadata": {}
  },
  {
   "cell_type": "markdown",
   "source": [
    "**Our comments (Task 3.1):**\n",
    "\n",
    "Choosing only the columns with baseline/update_motorcycle columns and taking the mean along axis 1 (i.e. for each rows) give us both averages. Then we calculate the the difference between both. We do not take the absolute value of the difference to check if there are cases where the updated value is lower than the baseline."
   ],
   "metadata": {}
  },
  {
   "cell_type": "code",
   "execution_count": 95,
   "source": [
    "data['baseline_average'] = data[['baseline_motorcycle{}'.format(i) for i in range(1,5)]].mean(axis=1, skipna=True)\n",
    "data['update_average'] = data[['update_motorcycle{}'.format(i) for i in range(1,5)]].mean(axis=1, skipna=True)\n",
    "data['diff_average'] = (data['update_average'] - data['baseline_average'])"
   ],
   "outputs": [],
   "metadata": {}
  },
  {
   "cell_type": "code",
   "execution_count": 96,
   "source": [
    "data.head()"
   ],
   "outputs": [
    {
     "output_type": "execute_result",
     "data": {
      "text/html": [
       "<div>\n",
       "<style scoped>\n",
       "    .dataframe tbody tr th:only-of-type {\n",
       "        vertical-align: middle;\n",
       "    }\n",
       "\n",
       "    .dataframe tbody tr th {\n",
       "        vertical-align: top;\n",
       "    }\n",
       "\n",
       "    .dataframe thead th {\n",
       "        text-align: right;\n",
       "    }\n",
       "</style>\n",
       "<table border=\"1\" class=\"dataframe\">\n",
       "  <thead>\n",
       "    <tr style=\"text-align: right;\">\n",
       "      <th></th>\n",
       "      <th>condition</th>\n",
       "      <th>id</th>\n",
       "      <th>baseline_motorcycle1</th>\n",
       "      <th>update_motorcycle1</th>\n",
       "      <th>baseline_motorcycle2</th>\n",
       "      <th>update_motorcycle2</th>\n",
       "      <th>baseline_motorcycle3</th>\n",
       "      <th>update_motorcycle3</th>\n",
       "      <th>baseline_motorcycle4</th>\n",
       "      <th>update_motorcycle4</th>\n",
       "      <th>motorcycle_count</th>\n",
       "      <th>baseline_average</th>\n",
       "      <th>update_average</th>\n",
       "      <th>diff_average</th>\n",
       "    </tr>\n",
       "  </thead>\n",
       "  <tbody>\n",
       "    <tr>\n",
       "      <th>0</th>\n",
       "      <td>Sign Top</td>\n",
       "      <td>1</td>\n",
       "      <td>896</td>\n",
       "      <td>39198</td>\n",
       "      <td>NaN</td>\n",
       "      <td>NaN</td>\n",
       "      <td>NaN</td>\n",
       "      <td>NaN</td>\n",
       "      <td>NaN</td>\n",
       "      <td>NaN</td>\n",
       "      <td>1</td>\n",
       "      <td>896.0</td>\n",
       "      <td>39198.0</td>\n",
       "      <td>38302.0</td>\n",
       "    </tr>\n",
       "    <tr>\n",
       "      <th>1</th>\n",
       "      <td>Sign Bottom</td>\n",
       "      <td>2</td>\n",
       "      <td>21396</td>\n",
       "      <td>63511</td>\n",
       "      <td>32659.0</td>\n",
       "      <td>47605.0</td>\n",
       "      <td>NaN</td>\n",
       "      <td>NaN</td>\n",
       "      <td>NaN</td>\n",
       "      <td>NaN</td>\n",
       "      <td>2</td>\n",
       "      <td>27027.5</td>\n",
       "      <td>55558.0</td>\n",
       "      <td>28530.5</td>\n",
       "    </tr>\n",
       "    <tr>\n",
       "      <th>2</th>\n",
       "      <td>Sign Bottom</td>\n",
       "      <td>3</td>\n",
       "      <td>21340</td>\n",
       "      <td>37460</td>\n",
       "      <td>44998.0</td>\n",
       "      <td>59002.0</td>\n",
       "      <td>NaN</td>\n",
       "      <td>NaN</td>\n",
       "      <td>NaN</td>\n",
       "      <td>NaN</td>\n",
       "      <td>2</td>\n",
       "      <td>33169.0</td>\n",
       "      <td>48231.0</td>\n",
       "      <td>15062.0</td>\n",
       "    </tr>\n",
       "    <tr>\n",
       "      <th>3</th>\n",
       "      <td>Sign Bottom</td>\n",
       "      <td>4</td>\n",
       "      <td>23912</td>\n",
       "      <td>59136</td>\n",
       "      <td>NaN</td>\n",
       "      <td>NaN</td>\n",
       "      <td>NaN</td>\n",
       "      <td>NaN</td>\n",
       "      <td>NaN</td>\n",
       "      <td>NaN</td>\n",
       "      <td>1</td>\n",
       "      <td>23912.0</td>\n",
       "      <td>59136.0</td>\n",
       "      <td>35224.0</td>\n",
       "    </tr>\n",
       "    <tr>\n",
       "      <th>4</th>\n",
       "      <td>Sign Bottom</td>\n",
       "      <td>5</td>\n",
       "      <td>16862</td>\n",
       "      <td>59292</td>\n",
       "      <td>NaN</td>\n",
       "      <td>NaN</td>\n",
       "      <td>NaN</td>\n",
       "      <td>NaN</td>\n",
       "      <td>NaN</td>\n",
       "      <td>NaN</td>\n",
       "      <td>1</td>\n",
       "      <td>16862.0</td>\n",
       "      <td>59292.0</td>\n",
       "      <td>42430.0</td>\n",
       "    </tr>\n",
       "  </tbody>\n",
       "</table>\n",
       "</div>"
      ],
      "text/plain": [
       "     condition  id  baseline_motorcycle1  update_motorcycle1  \\\n",
       "0     Sign Top   1                   896               39198   \n",
       "1  Sign Bottom   2                 21396               63511   \n",
       "2  Sign Bottom   3                 21340               37460   \n",
       "3  Sign Bottom   4                 23912               59136   \n",
       "4  Sign Bottom   5                 16862               59292   \n",
       "\n",
       "   baseline_motorcycle2  update_motorcycle2  baseline_motorcycle3  \\\n",
       "0                   NaN                 NaN                   NaN   \n",
       "1               32659.0             47605.0                   NaN   \n",
       "2               44998.0             59002.0                   NaN   \n",
       "3                   NaN                 NaN                   NaN   \n",
       "4                   NaN                 NaN                   NaN   \n",
       "\n",
       "   update_motorcycle3  baseline_motorcycle4  update_motorcycle4  \\\n",
       "0                 NaN                   NaN                 NaN   \n",
       "1                 NaN                   NaN                 NaN   \n",
       "2                 NaN                   NaN                 NaN   \n",
       "3                 NaN                   NaN                 NaN   \n",
       "4                 NaN                   NaN                 NaN   \n",
       "\n",
       "   motorcycle_count  baseline_average  update_average  diff_average  \n",
       "0                 1             896.0         39198.0       38302.0  \n",
       "1                 2           27027.5         55558.0       28530.5  \n",
       "2                 2           33169.0         48231.0       15062.0  \n",
       "3                 1           23912.0         59136.0       35224.0  \n",
       "4                 1           16862.0         59292.0       42430.0  "
      ]
     },
     "metadata": {},
     "execution_count": 96
    }
   ],
   "metadata": {}
  },
  {
   "cell_type": "markdown",
   "source": [
    "---"
   ],
   "metadata": {}
  },
  {
   "cell_type": "markdown",
   "source": [
    "**Our comments (Task 3.2):**\n",
    "\n",
    "One might propose aggregating by addition. The way it separates itself from aggregating by average is that policies with multiple motorcycles are visible because of larger numbers in both baseline and updated. This, however, could also be done by keeping the motorcycle_count as an attribute making the aggregating by addition obsolete. Aggregation by average will keep numbers comparable."
   ],
   "metadata": {}
  },
  {
   "cell_type": "markdown",
   "source": [
    "---"
   ],
   "metadata": {}
  },
  {
   "cell_type": "markdown",
   "source": [
    "**Our comments (Task 3.3):**\n",
    "\n",
    "We decided for a bar plot as motorcycle_count only consists of 4 distinct values, so we consider it a categorical variable rather than a numerical one (even though the categories are integer numbers). To get the sum, we group the dataframe by the motorcycle_count and then count the number of rows for each group, plotted then as a bar chart. To easily identify the differences and relations visually, we keep the y-axis of the plot as-is, and do not make it logarithmically, as also with the linear scaling we can determine that there are probably only around 50 policies with 4 motorcycles."
   ],
   "metadata": {}
  },
  {
   "cell_type": "code",
   "execution_count": 97,
   "source": [
    "data.groupby('motorcycle_count')['id'].count().plot.bar()\n",
    "plt.ylabel('number of policies');"
   ],
   "outputs": [
    {
     "output_type": "display_data",
     "data": {
      "image/png": "[encoded data removed]",
      "text/plain": [
       "<Figure size 432x288 with 1 Axes>"
      ]
     },
     "metadata": {
      "needs_background": "light"
     }
    }
   ],
   "metadata": {}
  },
  {
   "cell_type": "code",
   "execution_count": 98,
   "source": [
    "print( 'number of policies with four motorcycles: {}'.format(data.groupby('motorcycle_count')['id'].count()[4]))\n",
    "print( 'total number of policies {}'.format(data.groupby('motorcycle_count')['id'].count().sum()))"
   ],
   "outputs": [
    {
     "output_type": "stream",
     "name": "stdout",
     "text": [
      "number of policies with four motorcycles: 38\n",
      "total number of policies 12186\n"
     ]
    }
   ],
   "metadata": {}
  },
  {
   "cell_type": "markdown",
   "source": [
    "---"
   ],
   "metadata": {}
  },
  {
   "cell_type": "markdown",
   "source": [
    "**Our comments (Task 3.4):**\n",
    "\n",
    "Mean and standard deviation of updated average is calculated using build-in functions."
   ],
   "metadata": {}
  },
  {
   "cell_type": "code",
   "execution_count": 99,
   "source": [
    "data['update_average'].mean()"
   ],
   "outputs": [
    {
     "output_type": "execute_result",
     "data": {
      "text/plain": [
       "87623.0273879862"
      ]
     },
     "metadata": {},
     "execution_count": 99
    }
   ],
   "metadata": {}
  },
  {
   "cell_type": "code",
   "execution_count": 100,
   "source": [
    "data['update_average'].std()"
   ],
   "outputs": [
    {
     "output_type": "execute_result",
     "data": {
      "text/plain": [
       "44367.734756852784"
      ]
     },
     "metadata": {},
     "execution_count": 100
    }
   ],
   "metadata": {}
  },
  {
   "cell_type": "markdown",
   "source": [
    "---"
   ],
   "metadata": {}
  },
  {
   "cell_type": "markdown",
   "source": [
    "**Our comments (Task 3.5):**\n",
    "\n",
    "As we cleaned the data before, we now know that all rows with 4 motorcycles have a non-null value in the update_motorcylce4 column, so we can filter for non-nan values in this column to get only rows with 4 motorcycles. As the mean (and std) function in pandas only calculates the mean along one axis, we first call `.values` to get a `np.array` from the pandas DataFrame, as the mean and std functions in pandas return the mean and standard deviation for the whole array by default. "
   ],
   "metadata": {}
  },
  {
   "cell_type": "code",
   "execution_count": 101,
   "source": [
    "data[data['update_motorcycle4'].notna()][['update_motorcycle{}'.format(i) for i in range(1,5)]].values.mean()"
   ],
   "outputs": [
    {
     "output_type": "execute_result",
     "data": {
      "text/plain": [
       "97989.19078947368"
      ]
     },
     "metadata": {},
     "execution_count": 101
    }
   ],
   "metadata": {}
  },
  {
   "cell_type": "code",
   "execution_count": 102,
   "source": [
    "data[data['update_motorcycle4'].notna()][['update_motorcycle{}'.format(i) for i in range(1,5)]].values.std()"
   ],
   "outputs": [
    {
     "output_type": "execute_result",
     "data": {
      "text/plain": [
       "56181.242152862724"
      ]
     },
     "metadata": {},
     "execution_count": 102
    }
   ],
   "metadata": {}
  },
  {
   "cell_type": "markdown",
   "source": [
    "---"
   ],
   "metadata": {}
  },
  {
   "cell_type": "markdown",
   "source": [
    "**Our comments (Task 3.6):**\n",
    "\n",
    "We saw in the bar plot that we have few policies with four motorcycles compared to all the data we have (only $38$ policies out of $12000$). Calculating the mean and the std also shows that this small portion of the dataset differ from the full sample we have. We potentially loose a lot of dishonest clients with only one motorcycle. \n",
    "A more reasonable approach would be to just treat every policy as one data point. While on the one hand we loose the rich information on people having more motorcycles, on the other hand it is a reasonable assumption that a dishonest person might lie about the kilometrage on all of his motorcycles, so we probably wouldn't loose information by aggregating. \n"
   ],
   "metadata": {}
  },
  {
   "cell_type": "markdown",
   "source": [
    "### Task 4 — 18pts\n",
    "\n",
    "Now that we have compressed the kilometrage reported in each contract into a single number, it is time to analyze the \n",
    "million-dollar question: *does signing at the top decrease dishonesty?*\n",
    "\n",
    "1. Considering the updated contracts, calculate the mean and the standard deviation of the average kilometrage in a) \n",
    "policies where the signing was done at the bottom; and b) policies where the signing was done at the top. Additionally,\n",
    "plot the two kilometrage distributions.\n",
    "2. Determine whether the difference between the two scenarios mentioned in 1. is statistically significant.\n",
    "3. **Discuss:** Recall that the assignment of the different contracts (*sign at the top* vs. *sign at the bottom*) was \n",
    "done at random. According to the results in 1. and 2., does signing at the top decrease dishonesty? \n",
    "4.  **Discuss:** Given that no intervention was performed in the baseline contract (i.e., everyone signed at the \n",
    "bottom). Would you expect any differences between the average values between *sign at the top* vs. *sign at the bottom*\n",
    " conditions for the baseline contract? Note that this is related to columns `baseline_motorcycle[1-4]`.\n",
    "5. Calculate the mean and the standard deviation for the baseline contracts of the two groups (sign at the top vs. sign \n",
    "at the bottom). Additionally, plot the two kilometrage distributions.\n",
    "6. Determine whether the difference between the two scenarios mentioned in 5. is statistically significant.\n",
    "\n",
    "---\n",
    "\n",
    "**Hint:** Recall that the column `condition` encodes the experimental condition in which the customer fell when \n",
    "reporting the values shown in columns `update_motorcycle[1-4]`!\n",
    "\n",
    "**Hint:** To determine if the means of two sets of data are significantly different from each other, you may want to use\n",
    " the `ttest_ind` function implemented in the \n",
    " [scipy library](https://docs.scipy.org/doc/scipy/reference/generated/scipy.stats.ttest_ind.html). To learn more about \n",
    " Student's t-test, check out this [Wikipedia page](https://en.wikipedia.org/wiki/Student%27s_t-test)."
   ],
   "metadata": {}
  },
  {
   "cell_type": "markdown",
   "source": [
    "**Our comments (Task 4.1):**\n",
    "\n",
    "First the data is grouped by the `condition` column and then we calculate the mean and the standard deviation with the Pandas built-in aggregation functions mean and std."
   ],
   "metadata": {}
  },
  {
   "cell_type": "code",
   "execution_count": 103,
   "source": [
    "signed_top = data[data['condition'] == 'Sign Top']\n",
    "signed_bot = data[data['condition'] == 'Sign Bottom']"
   ],
   "outputs": [],
   "metadata": {}
  },
  {
   "cell_type": "code",
   "execution_count": 104,
   "source": [
    "data.groupby('condition')['update_average'].mean()"
   ],
   "outputs": [
    {
     "output_type": "execute_result",
     "data": {
      "text/plain": [
       "condition\n",
       "Sign Bottom    93607.554556\n",
       "Sign Top       81867.785067\n",
       "Name: update_average, dtype: float64"
      ]
     },
     "metadata": {},
     "execution_count": 104
    }
   ],
   "metadata": {}
  },
  {
   "cell_type": "code",
   "execution_count": 105,
   "source": [
    "data.groupby('condition')['update_average'].std()"
   ],
   "outputs": [
    {
     "output_type": "execute_result",
     "data": {
      "text/plain": [
       "condition\n",
       "Sign Bottom    44019.934608\n",
       "Sign Top       43940.869306\n",
       "Name: update_average, dtype: float64"
      ]
     },
     "metadata": {},
     "execution_count": 105
    }
   ],
   "metadata": {}
  },
  {
   "cell_type": "markdown",
   "source": [
    "---\n",
    "To plot the two histograms, we again write a new function, that creates two subplots and then create a histogram for top or bottom in each. With stack, we receive a one-dim Series from the DataFrame with 4 columns for each motorcycle. Combining this with dropna gives us a Pandas Series of all values in any of the update_motorcycle columns. "
   ],
   "metadata": {}
  },
  {
   "cell_type": "code",
   "execution_count": 106,
   "source": [
    "def plotKilometrageHistograms(top_km, bot_km):\n",
    "    #signed_top_update_kilometrages = signed_top[['update_motorcycle{}'.format(i) for i in range(1,5)]].stack().dropna()\n",
    "    #signed_bot_update_kilometrages = signed_bot[['update_motorcycle{}'.format(i) for i in range(1,5)]].stack().dropna()\n",
    "\n",
    "    fig, axs = plt.subplots(1, 2, figsize=(16,4), sharex=True, sharey=True)\n",
    "\n",
    "    plt.subplot(1, 2, 1)\n",
    "    top_km.plot.hist(bins=50);\n",
    "    plt.xlabel('kilometrage')\n",
    "    plt.title('Kilometrage histogram for contracts signed at the top');\n",
    "\n",
    "    plt.subplot(1, 2, 2)\n",
    "    bot_km.plot.hist(bins=50);\n",
    "    plt.xlabel('kilometrage')\n",
    "    plt.title('Kilometrage histogram for contracts signed at the bottom');\n",
    "\n",
    "    plt.show()"
   ],
   "outputs": [],
   "metadata": {}
  },
  {
   "cell_type": "code",
   "execution_count": 107,
   "source": [
    "signed_top_update_kilometrages = signed_top[['update_motorcycle{}'.format(i) for i in range(1,5)]].stack().dropna()\n",
    "signed_bot_update_kilometrages = signed_bot[['update_motorcycle{}'.format(i) for i in range(1,5)]].stack().dropna()\n",
    "\n",
    "plotKilometrageHistograms(top_km=signed_top_update_kilometrages,\n",
    "                          bot_km=signed_bot_update_kilometrages)\n"
   ],
   "outputs": [
    {
     "output_type": "display_data",
     "data": {
      "image/png": "[encoded data removed]",
      "text/plain": [
       "<Figure size 1152x288 with 2 Axes>"
      ]
     },
     "metadata": {
      "needs_background": "light"
     }
    }
   ],
   "metadata": {}
  },
  {
   "cell_type": "markdown",
   "source": [
    "**Our comments (Task 4.2):**\n",
    "\n",
    "To investigate whether the difference between the two groups seen in Task 4.1 is significant we use a Kolmogorov Smirnoff-test implemented from the `scipy` module."
   ],
   "metadata": {}
  },
  {
   "cell_type": "code",
   "execution_count": 108,
   "source": [
    "test = stats.ks_2samp(signed_bot_update_kilometrages, signed_top_update_kilometrages)\n",
    "print(f\"statistic: {test.statistic}\\np-value: {test.pvalue}\")"
   ],
   "outputs": [
    {
     "output_type": "stream",
     "name": "stdout",
     "text": [
      "statistic: 0.11332507314139688\n",
      "p-value: 5.075414732535318e-51\n"
     ]
    }
   ],
   "metadata": {}
  },
  {
   "cell_type": "markdown",
   "source": [
    "**Our comments (Task 4.2 - continued):**\n",
    "\n",
    "With a 95% level of confidence we did a Kolmogorov Smirnoff-test giving a p-value of 5.07*10^-51. That means we reject the null hypothesis of the Kolmogorov Smirnoff-test and conclude these two distributions do in fact differ from each other. We can also do a t-test to determine wheter the means differ significantly. Again, we reject the null hypothesis ($\\mu_1 = \\mu_2$), so we conclude the difference is significant. "
   ],
   "metadata": {}
  },
  {
   "cell_type": "code",
   "execution_count": 109,
   "source": [
    "test = stats.ttest_ind(signed_bot_update_kilometrages, signed_top_update_kilometrages)\n",
    "print(f\"statistic: {test.statistic}\\np-value: {test.pvalue}\")"
   ],
   "outputs": [
    {
     "output_type": "stream",
     "name": "stdout",
     "text": [
      "statistic: 16.01976168306241\n",
      "p-value: 2.3080024308598416e-57\n"
     ]
    }
   ],
   "metadata": {}
  },
  {
   "cell_type": "markdown",
   "source": [
    "---"
   ],
   "metadata": {}
  },
  {
   "cell_type": "markdown",
   "source": [
    "**Our comments (Task 4.3):**\n",
    "\n",
    "Given the low p-value we can now determine that the results are indeed significantly different from each other. Since the mean of \"Signing on top\" is lower than \"Signing on bottom\", we derive from the statistical test that the people signing on top of the policies report a significantly lower kilometrage readings than the people signing on the bottom. Based on the statistical test, one could therefore conclude that signing on top increases dishonesty if you define honesty by reporting a low kilometrage."
   ],
   "metadata": {}
  },
  {
   "cell_type": "markdown",
   "source": [
    "---"
   ],
   "metadata": {}
  },
  {
   "cell_type": "markdown",
   "source": [
    "**Our comments (Task 4.4):**\n",
    "\n",
    "If there were no interventions and assignment to one of the groups happened uniformly at random, signing at top or bottom should not make any difference at all, and the two samples should usually come from the same distribution (but they are not. Which is backed up by the statistical test and the difference between the mean and std).  \n"
   ],
   "metadata": {}
  },
  {
   "cell_type": "markdown",
   "source": [
    "---"
   ],
   "metadata": {}
  },
  {
   "cell_type": "markdown",
   "source": [
    "**Our comments (Task 4.5):**\n",
    "\n",
    "To get mean and standard deviation of the baseline motorcycles for signed top and signed bottom. After choosing only the respective columns from the dataframe, we then convert them, as above, to a Series of the non-na values by first calling stack() to make it a one-dim Series and then dropping nan values. With the built in functions, we get mean and std of the Series. Finally, we again call our already defined function. "
   ],
   "metadata": {}
  },
  {
   "cell_type": "code",
   "execution_count": 110,
   "source": [
    "signed_bot_baseline_kilometrages = signed_bot[['baseline_motorcycle{}'.format(i) for i in range(1,5)]].stack().dropna()\n",
    "signed_top_baseline_kilometrages = signed_top[['baseline_motorcycle{}'.format(i) for i in range(1,5)]].stack().dropna()"
   ],
   "outputs": [],
   "metadata": {}
  },
  {
   "cell_type": "code",
   "execution_count": 111,
   "source": [
    "mean_bot_base = signed_bot_baseline_kilometrages.values.mean()\n",
    "std_bot_base = signed_bot_baseline_kilometrages.values.std()\n",
    "\n",
    "print(f\"Signed bottom:\\n mean = {mean_bot_base}, std. dev. = {std_bot_base}\")"
   ],
   "outputs": [
    {
     "output_type": "stream",
     "name": "stdout",
     "text": [
      "Signed bottom:\n",
      " mean = 69768.1760324983, std. dev. = 46869.86326468633\n"
     ]
    }
   ],
   "metadata": {}
  },
  {
   "cell_type": "code",
   "execution_count": 112,
   "source": [
    "mean_top_base = signed_top_baseline_kilometrages.values.mean()\n",
    "std_top_base = signed_top_baseline_kilometrages.values.std()\n",
    "\n",
    "print(f\"Signed top:\\n mean = {mean_top_base}, std. dev. = {std_top_base}\")"
   ],
   "outputs": [
    {
     "output_type": "stream",
     "name": "stdout",
     "text": [
      "Signed top:\n",
      " mean = 55765.530890960326, std. dev. = 47157.61418473966\n"
     ]
    }
   ],
   "metadata": {}
  },
  {
   "cell_type": "code",
   "execution_count": 113,
   "source": [
    "plotKilometrageHistograms(top_km=signed_top_baseline_kilometrages,\n",
    "                          bot_km=signed_bot_baseline_kilometrages)"
   ],
   "outputs": [
    {
     "output_type": "display_data",
     "data": {
      "image/png": "[encoded data removed]",
      "text/plain": [
       "<Figure size 1152x288 with 2 Axes>"
      ]
     },
     "metadata": {
      "needs_background": "light"
     }
    }
   ],
   "metadata": {}
  },
  {
   "cell_type": "markdown",
   "source": [
    "**Our comments (Task 4.6):**\n",
    "\n",
    "Statistical Komogorov Smirnoff test, to determine wheter the two samples are drwan from the same distribution"
   ],
   "metadata": {}
  },
  {
   "cell_type": "code",
   "execution_count": 114,
   "source": [
    "test = stats.ks_2samp(signed_bot_baseline_kilometrages, signed_top_baseline_kilometrages)\n",
    "print(f\"statistic: {test.statistic}\\np-value: {test.pvalue}\")"
   ],
   "outputs": [
    {
     "output_type": "stream",
     "name": "stdout",
     "text": [
      "statistic: 0.13975529010157092\n",
      "p-value: 1.7641252073063195e-77\n"
     ]
    }
   ],
   "metadata": {}
  },
  {
   "cell_type": "markdown",
   "source": [
    "**Our comments (Task 4.6):**\n",
    "\n",
    "\n",
    " The small p value means we reject our null hypothesis, so the distributions are different. We can also check wheter the means are differ significantly with a t-test, we reject the null hypothesis, which means the means differ significanlty."
   ],
   "metadata": {}
  },
  {
   "cell_type": "code",
   "execution_count": 115,
   "source": [
    "test = stats.ttest_ind(signed_bot_baseline_kilometrages, signed_top_baseline_kilometrages)\n",
    "print(f\"statistic: {test.statistic}\\np-value: {test.pvalue}\")"
   ],
   "outputs": [
    {
     "output_type": "stream",
     "name": "stdout",
     "text": [
      "statistic: 20.022109296852076\n",
      "p-value: 3.1901231515658175e-88\n"
     ]
    }
   ],
   "metadata": {}
  },
  {
   "cell_type": "markdown",
   "source": [
    "**Our comments (Task 4.6 continued):**\n",
    "\n",
    "This goes to show that there is a difference between the distributions of signing at the top of the document and signing at the bottom of the document. As there were no intervention on signing on either top or bottom in the baseline and since people were chosen randomly to signing at either top/bottom on the updated policy, we should expect that the two distributions visualized above would not differ. This result suggests that there is a problem with the baseline data - we have a bias! In other words, the randomized trials might not have been as random as stated !"
   ],
   "metadata": {}
  },
  {
   "cell_type": "markdown",
   "source": [
    "## Interlude: Something is dodgy about this data...\n",
    "\n",
    "---\n",
    "\n",
    "Noticing the oddities in the data, you send an email to your contact at the insurance company asking about the integrity\n",
    " of the data. Their reply seems like something out of a detective movie:\n",
    "\n",
    "> Dear researcher, I believe that this data is not to be trusted. I can't talk right now but will send further hints \n",
    ">throughout the week.\n",
    "\n",
    "As a researcher, you know that [data integrity](https://en.wikipedia.org/wiki/Data_integrity) is a big deal, and decide\n",
    " to investigate."
   ],
   "metadata": {}
  },
  {
   "cell_type": "markdown",
   "source": [
    "### Task 5 — 9pts\n",
    "\n",
    "The first hint you receive is: *there is something off about the kilometrage values in the data.*\n",
    "\n",
    "1. For the baseline contract and for the updated contract, plot the distribution of odometer kilometrage reported for \n",
    "the first motorcycle insured in each policy. \n",
    "2. For the first motorcycle insured by the company in each policy, plot the difference between the number of kilometers\n",
    " reported in the baseline and in the updated contract.\n",
    "3. **Discuss:** why is this data unlikely to have originated from real odometer readings?\n",
    "\n",
    "---"
   ],
   "metadata": {}
  },
  {
   "cell_type": "markdown",
   "source": [
    "**Our comments (Task 5.1):**\n",
    "\n",
    "We use the matplotlib function for histograms on both baseline and update_motorcycle1 to get the histograms."
   ],
   "metadata": {}
  },
  {
   "cell_type": "code",
   "execution_count": 116,
   "source": [
    "fig, axs = plt.subplots(1, 2, figsize=(16,4), sharex=True, sharey=True)\n",
    "plt.subplot(1, 2, 1)\n",
    "plt.hist(data['baseline_motorcycle1'], bins=50, color='r')\n",
    "plt.title(data['baseline_motorcycle1'].name)\n",
    "plt.ylim([0,1200])\n",
    "plt.xlabel('Kilometrage')\n",
    "plt.ylabel('Frequency')\n",
    "\n",
    "plt.subplot(1, 2, 2)\n",
    "plt.hist(data['update_motorcycle1'], bins=50, color='b')\n",
    "plt.title(data['update_motorcycle1'].name)\n",
    "plt.ylim([0,1200])\n",
    "plt.xlabel('Kilometrage')\n",
    "plt.ylabel('Frequency')\n",
    "plt.show()"
   ],
   "outputs": [
    {
     "output_type": "display_data",
     "data": {
      "image/png": "[encoded data removed]",
      "text/plain": [
       "<Figure size 1152x288 with 2 Axes>"
      ]
     },
     "metadata": {
      "needs_background": "light"
     }
    }
   ],
   "metadata": {}
  },
  {
   "cell_type": "markdown",
   "source": [
    "---"
   ],
   "metadata": {}
  },
  {
   "cell_type": "markdown",
   "source": [
    "**Our comments (Task 5.2):**\n",
    "\n",
    "With the same function, we plot the histogram of the differences. "
   ],
   "metadata": {}
  },
  {
   "cell_type": "code",
   "execution_count": 117,
   "source": [
    "plt.hist(data['update_motorcycle1']-data['baseline_motorcycle1'], bins=50, color='m')\n",
    "plt.title('Difference (Update-Baseline)')\n",
    "plt.ylim([0,1200])\n",
    "plt.xlabel('Kilometrage')\n",
    "plt.ylabel('Frequency')\n",
    "plt.show()\n"
   ],
   "outputs": [
    {
     "output_type": "display_data",
     "data": {
      "image/png": "[encoded data removed]",
      "text/plain": [
       "<Figure size 432x288 with 1 Axes>"
      ]
     },
     "metadata": {
      "needs_background": "light"
     }
    }
   ],
   "metadata": {}
  },
  {
   "cell_type": "markdown",
   "source": [
    "---"
   ],
   "metadata": {}
  },
  {
   "cell_type": "markdown",
   "source": [
    "**Our comments (Task 5.3):**\n",
    "\n",
    "From our point of view, it is unreasonable to see a uniform distribution of the differences here. Assuming that the time difference between update and baseline contract are relatively equal (no huge differences of e.g. several decades between mean and maximum time difference from baseline to update), we would assume that the difference follows a normal distribution. That is because we would think that the majority of bikers ride their bike about the same distance per year, with some deviating values to the top and the bottom. Assuming the time differences to be about the same, this should show as more mass around the median of the differences, and less on the sides (both 50k and 0k)."
   ],
   "metadata": {}
  },
  {
   "cell_type": "markdown",
   "source": [
    "### Task 6 — 15pts\n",
    "\n",
    "The second hint you receive is: *there is something off with the last digits of the reported kilometrages.*\n",
    "\n",
    "1. Considering the baseline kilometrage of the first motorcycle in each contract (`baseline_motorcycle1`), plot the \n",
    "distribution of occurrences of the last three digits. Repeat the same for the updated kilometrage of the first \n",
    "motorcycle in each contract (`update_motorcycle1`).\n",
    "\n",
    "3. **Discuss:** What are the differences between the two distributions?\n",
    "\n",
    "4. **Discuss:** Hypothesize a **plausible** cause for the patterns observed in the digit distribution of the baseline\n",
    " kilometrage of the first motorcycle.\n",
    "    \n",
    "---\n",
    "\n",
    "**Hint:** The last two digits of the number 12314 are 314. Note that you should consider the three last digits together,\n",
    " not separately!"
   ],
   "metadata": {}
  },
  {
   "cell_type": "markdown",
   "source": [
    "**Our comments (Task 6.1):**"
   ],
   "metadata": {}
  },
  {
   "cell_type": "code",
   "execution_count": 118,
   "source": [
    "data_last_digits = pd.concat([data['baseline_motorcycle1'], data['update_motorcycle1']],axis=1)\n",
    "data_last_digits = data_last_digits % 1000\n",
    "\n",
    "data_last_digits_baseline = data_last_digits.groupby('baseline_motorcycle1')['baseline_motorcycle1'].count()\n",
    "data_last_digits_update = data_last_digits.groupby('update_motorcycle1')['update_motorcycle1'].count()\n",
    "\n",
    "fig, axs = plt.subplots(1, 2, figsize=(16,4), sharex=True, sharey=True)\n",
    "plt.subplot(1, 2, 1)\n",
    "plt.bar(data_last_digits_baseline.index, data_last_digits_baseline, color='r')\n",
    "plt.title(data_last_digits['baseline_motorcycle1'].name)\n",
    "plt.ylim([0,200])\n",
    "plt.xlabel('Last Three Digits of Kilometrage')\n",
    "plt.ylabel('Frequency')\n",
    "\n",
    "plt.subplot(1, 2, 2)\n",
    "plt.bar(data_last_digits_update.index, data_last_digits_update, color='b')\n",
    "plt.title(data_last_digits['update_motorcycle1'].name)\n",
    "plt.ylim([0,200])\n",
    "plt.xlabel('Last Three Digits of Kilometrage')\n",
    "plt.ylabel('Frequency')\n",
    "plt.show()"
   ],
   "outputs": [
    {
     "output_type": "display_data",
     "data": {
      "image/png": "[encoded data removed]",
      "text/plain": [
       "<Figure size 1152x288 with 2 Axes>"
      ]
     },
     "metadata": {
      "needs_background": "light"
     }
    }
   ],
   "metadata": {}
  },
  {
   "cell_type": "markdown",
   "source": [
    "---"
   ],
   "metadata": {}
  },
  {
   "cell_type": "markdown",
   "source": [
    "**Our comments (Task 6.2):**\n",
    "\n",
    "The baseline distribution contains peaks at e.g. '000' and '500', whereas the update seems to be distributed pretty evenly throughout the possible digits. A factor contributing to the tendency of many occuring 0's might be the fact that a lot of baseline motorcycles have a kilometrage reporting of zero, meaning that they are brand new motorcycles when registered. Thus, after a year of driving most of the zeros would increase and result in the more uniform distribution seen in the plot for updated kilometrage reportings. This tendency does not occur in the updated motorcycles as they are defined by having a preceding baseline policy.  \n"
   ],
   "metadata": {}
  },
  {
   "cell_type": "code",
   "execution_count": 119,
   "source": [
    "print(f\"New motorcycles (1) in baseline:\\t\\t {data[data.baseline_motorcycle1==0].shape[0]}\")\n",
    "print(f\"New motorcycles (1) in updated policies:\\t {data[data.update_motorcycle1==0].shape[0]}\")"
   ],
   "outputs": [
    {
     "output_type": "stream",
     "name": "stdout",
     "text": [
      "New motorcycles (1) in baseline:\t\t 113\n",
      "New motorcycles (1) in updated policies:\t 0\n"
     ]
    }
   ],
   "metadata": {}
  },
  {
   "cell_type": "markdown",
   "source": [
    "---"
   ],
   "metadata": {}
  },
  {
   "cell_type": "markdown",
   "source": [
    "**Our comments (Task 6.3):**\n",
    "\n",
    "The tendency seen in the baseline plot with a large spike on \"000\" and minor spikes on the remaining values of 100's could be that a lot of people tend to approximate their kilometrage reportings. People might tend to put in rounded numbers when they have to get creative and make up a number (thereby being dishonest in the defined meaning). Furthermore, as argued in 6.2 the large spike on \"000\" is somewhat due to newly registered motorcycles in the baseline contract.\n",
    "\n",
    "In the plots in task 6.1 we see that the baseline has spikes at digits of 100's (like 100, 200, etc.). For this data all policies were signed at the bottom and as argued it seems like a few people tend to approximate their reports. In the updated policies, where half the people sign at the top this trend seems to stop. If the intervention on the position of signature (top or bottom) was in fact done completely random, this trend would have continued in the updated policies, as half of the people would still approximate their kilometrage readings. This suggests that the people who were prone to approximate their reportings (thereby being dishonest) were given the \"sign top\" feature in the update, as the tendency of approximating the last three digits seem to be COMPLETELY cancelled. If this is true, the randomized trials might not have been as random as we thought."
   ],
   "metadata": {}
  },
  {
   "cell_type": "markdown",
   "source": [
    "### Task 7 — 15pts\n",
    "\n",
    "The third (and last) hint you receive is: *there is something wrong with the fonts.*\n",
    "\n",
    "Your anonymous source explains that the `.tsv` file sent to you was derived from an Excel sheet. There, some of the rows\n",
    " were written in the font *Helvetica* while others were written in the font *Arial*. Your anonymous source sends you a \n",
    " file with the relation between policy id and the font used in the respective row (`fonts.csv`), and tells you that the\n",
    "  rows with *Helvetica* font were fabricated.\n",
    "\n",
    "1. Load `fonts.csv` and merge the `font` column into your pandas dataframe.\n",
    "2. Considering only the kilometrage of the first motorcycle in each policy, calculate the number of rows with the Arial \n",
    "and the Helvetica font, respectively. Also, plot the distribution of baseline kilometers for rows with the Arial font \n",
    "and for rows with the Helvetica font.\n",
    "3. Similar to what was done in task 6. Plot the distribution of the last three digits for 1) the first motorcycle in \n",
    "each baseline contract (`baseline_motorcycle1`); and 2) the first motorcycle in each updated contract\n",
    " (`update_motorcycle1`).\n",
    "4. **Discuss:** Why do these analyses provide evidence that the rows with Helvetica font were fabricated?\n",
    "\n",
    "---"
   ],
   "metadata": {}
  },
  {
   "cell_type": "markdown",
   "source": [
    "**Our comments (Task 7.1):**\n",
    "\n",
    "To load the fonts dataset, we simply call read_csv with the default parameters. We then merge it with our normal dataframe by merging both on the 'id' column (which is necessary, as we dropped some rows earlier)."
   ],
   "metadata": {}
  },
  {
   "cell_type": "code",
   "execution_count": 120,
   "source": [
    "fonts = pd.read_csv('./data/fonts.csv')\n",
    "fonts.head()"
   ],
   "outputs": [
    {
     "output_type": "execute_result",
     "data": {
      "text/html": [
       "<div>\n",
       "<style scoped>\n",
       "    .dataframe tbody tr th:only-of-type {\n",
       "        vertical-align: middle;\n",
       "    }\n",
       "\n",
       "    .dataframe tbody tr th {\n",
       "        vertical-align: top;\n",
       "    }\n",
       "\n",
       "    .dataframe thead th {\n",
       "        text-align: right;\n",
       "    }\n",
       "</style>\n",
       "<table border=\"1\" class=\"dataframe\">\n",
       "  <thead>\n",
       "    <tr style=\"text-align: right;\">\n",
       "      <th></th>\n",
       "      <th>id</th>\n",
       "      <th>font</th>\n",
       "    </tr>\n",
       "  </thead>\n",
       "  <tbody>\n",
       "    <tr>\n",
       "      <th>0</th>\n",
       "      <td>1</td>\n",
       "      <td>Helvetica</td>\n",
       "    </tr>\n",
       "    <tr>\n",
       "      <th>1</th>\n",
       "      <td>2</td>\n",
       "      <td>Helvetica</td>\n",
       "    </tr>\n",
       "    <tr>\n",
       "      <th>2</th>\n",
       "      <td>3</td>\n",
       "      <td>Helvetica</td>\n",
       "    </tr>\n",
       "    <tr>\n",
       "      <th>3</th>\n",
       "      <td>4</td>\n",
       "      <td>Helvetica</td>\n",
       "    </tr>\n",
       "    <tr>\n",
       "      <th>4</th>\n",
       "      <td>5</td>\n",
       "      <td>Arial</td>\n",
       "    </tr>\n",
       "  </tbody>\n",
       "</table>\n",
       "</div>"
      ],
      "text/plain": [
       "   id       font\n",
       "0   1  Helvetica\n",
       "1   2  Helvetica\n",
       "2   3  Helvetica\n",
       "3   4  Helvetica\n",
       "4   5      Arial"
      ]
     },
     "metadata": {},
     "execution_count": 120
    }
   ],
   "metadata": {}
  },
  {
   "cell_type": "code",
   "execution_count": 121,
   "source": [
    "print(f\"fonts shape: {fonts.shape}\\ndata shape {data.shape}\")"
   ],
   "outputs": [
    {
     "output_type": "stream",
     "name": "stdout",
     "text": [
      "fonts shape: (13487, 2)\n",
      "data shape (12186, 14)\n"
     ]
    }
   ],
   "metadata": {}
  },
  {
   "cell_type": "markdown",
   "source": [
    "**Our comments (Task 7.1):**\n",
    "\n",
    "We use the id column as keys in both dataframe for the merge."
   ],
   "metadata": {}
  },
  {
   "cell_type": "code",
   "execution_count": 122,
   "source": [
    "data_with_fonts = data.merge(fonts, left_on='id', right_on='id')\n",
    "data_with_fonts.shape"
   ],
   "outputs": [
    {
     "output_type": "execute_result",
     "data": {
      "text/plain": [
       "(12186, 15)"
      ]
     },
     "metadata": {},
     "execution_count": 122
    }
   ],
   "metadata": {}
  },
  {
   "cell_type": "markdown",
   "source": [
    "---"
   ],
   "metadata": {}
  },
  {
   "cell_type": "markdown",
   "source": [
    "**Our comments (Task 7.2):**\n",
    "\n",
    "Our two samples are similar in size."
   ],
   "metadata": {}
  },
  {
   "cell_type": "code",
   "execution_count": 123,
   "source": [
    "data_with_fonts.groupby('font')['id'].count()"
   ],
   "outputs": [
    {
     "output_type": "execute_result",
     "data": {
      "text/plain": [
       "font\n",
       "Arial        6091\n",
       "Helvetica    6095\n",
       "Name: id, dtype: int64"
      ]
     },
     "metadata": {},
     "execution_count": 123
    }
   ],
   "metadata": {}
  },
  {
   "cell_type": "markdown",
   "source": [
    "Plotting is again done with matplotlib's hist function. "
   ],
   "metadata": {}
  },
  {
   "cell_type": "code",
   "execution_count": 124,
   "source": [
    "data_arial = data_with_fonts[data_with_fonts['font'] == 'Arial']\n",
    "data_helvetica = data_with_fonts[data_with_fonts['font'] == 'Helvetica']\n",
    "\n",
    "fig, axs = plt.subplots(1, 2, figsize=(16,4), sharex=True, sharey=True)\n",
    "\n",
    "axs[0].hist(data_arial['baseline_motorcycle1'], bins=50, color='r')\n",
    "axs[0].set_title('Arial')\n",
    "axs[0].set_xlim([0, 200000])\n",
    "axs[0].set_ylim([0, 600])\n",
    "axs[0].set_xlabel('kilometrage')\n",
    "axs[0].set_ylabel('Frequency')\n",
    "\n",
    "axs[1].hist(data_helvetica['baseline_motorcycle1'], bins=50, color='b')\n",
    "axs[1].set_title('Helvetica')\n",
    "axs[1].set_xlabel('kilometrage')\n",
    "axs[1].set_ylabel('Frequency')\n"
   ],
   "outputs": [
    {
     "output_type": "execute_result",
     "data": {
      "text/plain": [
       "Text(0, 0.5, 'Frequency')"
      ]
     },
     "metadata": {},
     "execution_count": 124
    },
    {
     "output_type": "display_data",
     "data": {
      "image/png": "[encoded data removed]",
      "text/plain": [
       "<Figure size 1152x288 with 2 Axes>"
      ]
     },
     "metadata": {
      "needs_background": "light"
     }
    }
   ],
   "metadata": {}
  },
  {
   "cell_type": "markdown",
   "source": [
    "**Our comments (Task 7.2):**\n",
    "\n",
    "The two sample sizes are almost the same and it seems the two samples are drawn from the same distribution. The font should not effect the distribution of kilometrage. Let's check this. To investigate, whether the two samples come from the same distribution we could use a Kolmogorov-Smirnov test, but our sample is pretty large, so a test would likely be rejected, instead we take a look at the QQ plot."
   ],
   "metadata": {}
  },
  {
   "cell_type": "markdown",
   "source": [
    "Indeed, the KS test is rejected"
   ],
   "metadata": {}
  },
  {
   "cell_type": "code",
   "execution_count": 129,
   "source": [
    "stats.ks_2samp(data_arial['baseline_motorcycle1'], data_helvetica['baseline_motorcycle1'])"
   ],
   "outputs": [
    {
     "output_type": "execute_result",
     "data": {
      "text/plain": [
       "KstestResult(statistic=0.049421159448124016, pvalue=6.517564351549154e-07)"
      ]
     },
     "metadata": {},
     "execution_count": 129
    }
   ],
   "metadata": {}
  },
  {
   "cell_type": "markdown",
   "source": [
    "In the QQ (quantile-quantile) plot, we compare the two probability distributions by plotting their quantiles against each other. We are given two samples so all we need to do is sort the observations and plot them. The result suggests that the two distributions are really similar, almost as if one of them was generated from the other one..."
   ],
   "metadata": {}
  },
  {
   "cell_type": "code",
   "execution_count": 143,
   "source": [
    "sort_hel = np.sort(np.array(data_helvetica['baseline_motorcycle1']))\n",
    "sort_arial = np.sort(np.array(data_arial['baseline_motorcycle1']))\n",
    "lenth = min(len(sort_hel),len(sort_arial))\n",
    "plt.figure(figsize=(10, 10), dpi=80)\n",
    "plt.scatter(sort_hel[:lenth], sort_arial[:lenth])\n",
    "plt.title('QQ plot')\n",
    "plt.ylabel('Arial')\n",
    "plt.xlabel('Helvetica')"
   ],
   "outputs": [
    {
     "output_type": "execute_result",
     "data": {
      "text/plain": [
       "Text(0.5, 0, 'Helvetica')"
      ]
     },
     "metadata": {},
     "execution_count": 143
    },
    {
     "output_type": "display_data",
     "data": {
      "image/png": "[encoded data removed]",
      "text/plain": [
       "<Figure size 800x800 with 1 Axes>"
      ]
     },
     "metadata": {
      "needs_background": "light"
     }
    }
   ],
   "metadata": {}
  },
  {
   "cell_type": "markdown",
   "source": [
    "---"
   ],
   "metadata": {}
  },
  {
   "cell_type": "markdown",
   "source": [
    "**Our comments (Task 7.3):**\n",
    "\n",
    "We again decided for bar plots. For the last 3 digits, we first take modulo 1000. Then, we group the values and count them, to receive the counts for our bar plot. We can then simply plot all 4 possible combinations of font type and base/update. "
   ],
   "metadata": {}
  },
  {
   "cell_type": "code",
   "execution_count": 126,
   "source": [
    "df_last_digits_arial_base = data_arial['baseline_motorcycle1'] % 1000\n",
    "df_last_digits_helvetica_base = data_helvetica['baseline_motorcycle1'] % 1000\n",
    "df_last_digits_arial_update = data_arial['update_motorcycle1'] % 1000\n",
    "df_last_digits_helvetica_update = data_helvetica['update_motorcycle1'] % 1000\n",
    "\n",
    "df_last_digits_arial_base = df_last_digits_arial_base.groupby(df_last_digits_arial_base).count()\n",
    "df_last_digits_helvetica_base = df_last_digits_helvetica_base.groupby(df_last_digits_helvetica_base).count()\n",
    "df_last_digits_arial_update = df_last_digits_arial_update.groupby(df_last_digits_arial_update).count()\n",
    "df_last_digits_helvetica_update = df_last_digits_helvetica_update.groupby(df_last_digits_helvetica_update).count()\n",
    "\n",
    "fig, axs = plt.subplots(2, 2, figsize=(16,8), sharex=True, sharey=True)\n",
    "\n",
    "axs[0,0].bar(df_last_digits_arial_base.index, df_last_digits_arial_base, color='r')\n",
    "axs[0,0].set_title('Arial ' + data_arial['baseline_motorcycle1'].name)\n",
    "axs[0,0].set_xlabel('Last Three Digits of Kilometrage')\n",
    "axs[0,0].set_ylabel('Frequency')\n",
    "\n",
    "axs[0,1].bar(df_last_digits_helvetica_base.index, df_last_digits_helvetica_base, color='b')\n",
    "axs[0,1].set_title('Helvetica ' + data_helvetica['baseline_motorcycle1'].name)\n",
    "axs[0,1].set_xlabel('Last Three Digits of Kilometrage')\n",
    "axs[0,1].set_ylabel('Frequency')\n",
    "\n",
    "axs[1,0].bar(df_last_digits_arial_update.index, df_last_digits_arial_update, color='r')\n",
    "axs[1,0].set_title('Arial ' + data_arial['update_motorcycle1'].name)\n",
    "axs[1,0].set_xlabel('Last Three Digits of Kilometrage')\n",
    "axs[1,0].set_ylabel('Frequency')\n",
    "\n",
    "axs[1,1].bar(df_last_digits_helvetica_update.index, df_last_digits_helvetica_update, color='b')\n",
    "axs[1,1].set_title('Helvetica ' + data_helvetica['update_motorcycle1'].name)\n",
    "axs[1,1].set_xlabel('Last Three Digits of Kilometrage')\n",
    "axs[1,1].set_ylabel('Frequency')\n",
    "\n",
    "fig.tight_layout(pad=3.0)"
   ],
   "outputs": [
    {
     "output_type": "display_data",
     "data": {
      "image/png": "[encoded data removed]",
      "text/plain": [
       "<Figure size 1152x576 with 4 Axes>"
      ]
     },
     "metadata": {
      "needs_background": "light"
     }
    }
   ],
   "metadata": {}
  },
  {
   "cell_type": "markdown",
   "source": [
    "**Our comments (Task 7.3):**\n",
    "\n",
    "In the Helvectica policies the distribution of the last three digits seems uniform but the Arial base policies have greater mass especially concentrated on $000$. Let's see it on log scale.  \n",
    "\n",
    "Therefore, we simply set the y axis to be logarithmic with log=True in the bar plot functions. Note that we were not able to choose sharey=True here, as it lead to incorrect graphs for us (we saw that the 0 peak for Arial baseline_motorcycle1 gave us less than 10^2 when it should be well above 10^3). We therefore set log=True and manually set every y-axis to cover the range of 1 to 2000 by set_ylim."
   ],
   "metadata": {}
  },
  {
   "cell_type": "code",
   "execution_count": 66,
   "source": [
    "df_last_digits_arial_base = data_arial['baseline_motorcycle1'] % 1000\n",
    "df_last_digits_helvetica_base = data_helvetica['baseline_motorcycle1'] % 1000\n",
    "df_last_digits_arial_update = data_arial['update_motorcycle1'] % 1000\n",
    "df_last_digits_helvetica_update = data_helvetica['update_motorcycle1'] % 1000\n",
    "\n",
    "df_last_digits_arial_base = df_last_digits_arial_base.groupby(df_last_digits_arial_base).count()\n",
    "df_last_digits_helvetica_base = df_last_digits_helvetica_base.groupby(df_last_digits_helvetica_base).count()\n",
    "df_last_digits_arial_update = df_last_digits_arial_update.groupby(df_last_digits_arial_update).count()\n",
    "df_last_digits_helvetica_update = df_last_digits_helvetica_update.groupby(df_last_digits_helvetica_update).count()\n",
    "\n",
    "fig, axs = plt.subplots(2, 2, figsize=(16,8), sharex=True, sharey=False)\n",
    "\n",
    "axs[0,0].bar(df_last_digits_arial_base.index, df_last_digits_arial_base, color='r', log=True)\n",
    "axs[0,0].set_title('Arial ' + data_arial['baseline_motorcycle1'].name)\n",
    "axs[0,0].set_xlabel('Last Three Digits of Kilometrage')\n",
    "axs[0,0].set_ylabel('Frequency')\n",
    "axs[0,0].set_ylim([1, 2000])\n",
    "\n",
    "axs[0,1].bar(df_last_digits_helvetica_base.index, df_last_digits_helvetica_base, color='b', log=True)\n",
    "axs[0,1].set_title('Helvetica ' + data_helvetica['baseline_motorcycle1'].name)\n",
    "axs[0,1].set_xlabel('Last Three Digits of Kilometrage')\n",
    "axs[0,1].set_ylabel('Frequency')\n",
    "axs[0,1].set_ylim([1, 2000])\n",
    "\n",
    "axs[1,0].bar(df_last_digits_arial_update.index, df_last_digits_arial_update, color='r', log=True)\n",
    "axs[1,0].set_title('Arial ' + data_arial['update_motorcycle1'].name)\n",
    "axs[1,0].set_xlabel('Last Three Digits of Kilometrage')\n",
    "axs[1,0].set_ylabel('Frequency')\n",
    "axs[1,0].set_ylim([1, 2000])\n",
    "\n",
    "axs[1,1].bar(df_last_digits_helvetica_update.index, df_last_digits_helvetica_update, color='b', log=True)\n",
    "axs[1,1].set_title('Helvetica ' + data_helvetica['update_motorcycle1'].name)\n",
    "axs[1,1].set_xlabel('Last Three Digits of Kilometrage')\n",
    "axs[1,1].set_ylabel('Frequency')\n",
    "axs[1,1].set_ylim([1, 2000])\n",
    "\n",
    "fig.tight_layout(pad=3.0)"
   ],
   "outputs": [
    {
     "output_type": "display_data",
     "data": {
      "image/png": "[encoded data removed]",
      "text/plain": [
       "<Figure size 1152x576 with 4 Axes>"
      ]
     },
     "metadata": {
      "needs_background": "light"
     }
    }
   ],
   "metadata": {}
  },
  {
   "cell_type": "code",
   "execution_count": 67,
   "source": [
    "print(f'arial baseline zeros {sum(df_last_digits_arial_base == 0)}')\n",
    "print(f'helvetica baseline zeros {sum(df_last_digits_helvetica_base == 0)}')"
   ],
   "outputs": [
    {
     "output_type": "stream",
     "name": "stdout",
     "text": [
      "arial baseline zeros 0\n",
      "helvetica baseline zeros 0\n"
     ]
    }
   ],
   "metadata": {}
  },
  {
   "cell_type": "markdown",
   "source": [
    "---"
   ],
   "metadata": {}
  },
  {
   "cell_type": "markdown",
   "source": [
    "**Our comments (Task 7.4):**\n",
    "\n",
    "First of all we saw that the distribution of the last three digits for both fonts (Arial and Helvetica) are significantly different. By further investigating the baseline and updated policies with different fonts it becomes clear why. It seems that in the Arial baseline, there are more than 1000 bikes ending with \"000\" of which 113 are new bikes (as previously shown). In the Helvetica baseline, there is no spike at \"000\". If the two fonts should be equally valid we would expect no difference between their distributions, so the Helvetica baseline data should have a similar distribution to the Arial baseline, yet it seems more uniform than the Arial one. The spikes at the multiples of \"100\" can be explained by approximations of kilometrage by the policy holders which is not to be seen in the Helvetica baseline data meaning that no approximation happened there. The approximated values in the Arial font policies seem plausible - as it seems like human behaviour - for several reasons (like newly bought bikes, dishonesty, etc.) as argued in the Tasks 6.2 and 6.3 for which reason it becomes evident that the Helvetica policies are fabricated !"
   ],
   "metadata": {}
  },
  {
   "cell_type": "markdown",
   "source": [
    "### Task 8 — 15pts\n",
    "\n",
    "You've had enough! You decide to write an email to your PI (principal investigator, also known as \"your boss\") reporting\n",
    " the oddities you have observed in the data. Write a (brief) text (in markdown) of up to 300 words. Your text should:\n",
    "\n",
    "- Use the analyses you did to make a convincing case that the data has been tampered with. \n",
    "- Grounded in your analyses, provide a plausible hypothesis about how the data has been tampered with.\n",
    "- Discuss whether the data leads to the conclusion that signing at the top decreases dishonesty.\n",
    "\n",
    "Structure your text into three bullets, analogous to the ones above.\n",
    "\n",
    "You can reference images present in the notebook by indicating a task (e.g., image plotted in Task 3.3) or a cell \n",
    "number.\n",
    "\n",
    "Note that you do not need to conduct any additional analysis to write this text. If you do, the code should be at the \n",
    "end of this notebook, i.e., after your answer.\n",
    "\n",
    "---\n",
    "\n",
    "**Hint:** The data has been tampered with in more than one way."
   ],
   "metadata": {}
  },
  {
   "cell_type": "markdown",
   "source": [
    "**Our comments (Task 8):**\n",
    "\n",
    "- We first conclude that people signing their updated policies on the top of a document were in fact reporting lower kilometrage readings than people signing at the bottom - this was contradictory to the originally stated hypothesis about dishonesty (task 4). Further investigations on the baseline data reveals that there is a bias in the data (task 4). Through analysis of the last three digits of kilometrage reportings we found that this bias is in fact because the experimental setup of randomized trial seems invalid and suggests that people with more dishonest baseline reportings were actively asked to sign at the top of the updated policies (task 6).\n",
    "    \n",
    "    The reported kilometrage readings in the updated contracts are \"FISHY\" as their difference to the baseline reportings is uniformly distributed. If this was in fact correct, the policy holders could just as well have rolled a dice to determine how many additional kilometrages between 0 and 50.000 kilometers each policy owner should report (task 5). \n",
    "    \n",
    "    There is strong evidence that policies written with the font Helvetica are fabricated which is seen when looking at the last three digits of the reported kilometrages from the baseline data. As is seen from analysis of the Arial-written policies the policy holders tend to approximate their reportings to the nearest 100's of kilometers which seems like human behaviour (and possibly dishonesty). This tendency is not seen in the Helvitica-written policies that instead comes from a somehow uniform distribution (task 7).\n",
    "    \n",
    "\n",
    "- Based on these analyses we hypothesize that;\n",
    "\t\t1) the experiment was not done as a randomized trial.\n",
    "\t\t2) the policies written with Helvetica font was fabricated.\n",
    "\n",
    "- We are not convinced that the trials are truly randomized. Therefore, the study does not ensure us that signing top does really increase honesty. Without randomised trials there could be all sorts of hidden confounders that we have not discovered and encounted in the preceeding analyses.\n"
   ],
   "metadata": {}
  },
  {
   "cell_type": "markdown",
   "source": [
    "---"
   ],
   "metadata": {}
  },
  {
   "cell_type": "markdown",
   "source": [
    "**Additional plots:**"
   ],
   "metadata": {}
  },
  {
   "cell_type": "code",
   "execution_count": 199,
   "source": [
    "data_a_top_base = data_with_fonts[(data_with_fonts['font'] == 'Arial') & (data_with_fonts['condition'] == 'Sign Top')]['baseline_motorcycle1'] #% 1000\n",
    "data_a_bot_base = data_with_fonts[(data_with_fonts['font'] == 'Arial') & (data_with_fonts['condition'] == 'Sign Bottom')] ['baseline_motorcycle1'] #% 1000\n",
    "data_h_top_base = data_with_fonts[(data_with_fonts['font'] == 'Helvetica') & (data_with_fonts['condition'] == 'Sign Top')]['baseline_motorcycle1'] #% 1000\n",
    "data_h_bot_base = data_with_fonts[(data_with_fonts['font'] == 'Helvetica') & (data_with_fonts['condition'] == 'Sign Bottom')]['baseline_motorcycle1'] #% 1000\n",
    "data_a_top_up  = data_with_fonts[(data_with_fonts['font'] == 'Arial') & (data_with_fonts['condition'] == 'Sign Top')]['update_motorcycle1']#% 1000 \n",
    "data_a_bot_up = data_with_fonts[(data_with_fonts['font'] == 'Arial') & (data_with_fonts['condition'] == 'Sign Bottom')]['update_motorcycle1']  #% 1000\n",
    "data_h_top_up = data_with_fonts[(data_with_fonts['font'] == 'Helvetica') & (data_with_fonts['condition'] == 'Sign Top')]['update_motorcycle1'] #% 1000\n",
    "data_h_bot_up = data_with_fonts[(data_with_fonts['font'] == 'Helvetica') & (data_with_fonts['condition'] == 'Sign Bottom')]['update_motorcycle1'] #% 1000"
   ],
   "outputs": [],
   "metadata": {}
  },
  {
   "cell_type": "code",
   "execution_count": 194,
   "source": [
    "sign = ['top ', 'bot ','top ', 'bot ','top ', 'bot ','top ', 'bot ']\n",
    "color= ['b', 'r','b', 'r','b', 'r','b', 'r']\n",
    "font = ['arial ', 'arial ', 'arial ', 'arial ', 'hel ', 'hel ', 'hel ', 'hel ']\n",
    "list_= [data_a_top_base, data_a_bot_base, data_a_top_up,  data_a_bot_up, data_h_top_base, data_h_bot_base, data_h_top_up, data_h_bot_up]\n",
    "\n",
    "fig, axs = plt.subplots(2, 4, figsize=(20,6), sharex=True, sharey=True)\n",
    "\n",
    "for j in range(2):\n",
    "    for i in range(4):\n",
    "        axs[j,i].hist(list_[i+j*4] , bins=50,color=color[i+4*j])\n",
    "        axs[j,i].set_yscale('log')\n",
    "        axs[j,i].set_title(sign[i+j*4] + font[i+j*4] + list_[i+j*4].name)\n",
    "        axs[j,i].set_xlabel('kilometrage')\n",
    "        axs[j,i].set_ylabel('Frequency')\n",
    "\n",
    "fig.tight_layout(pad=3.0)"
   ],
   "outputs": [
    {
     "output_type": "display_data",
     "data": {
      "image/png": "[encoded data removed]",
      "text/plain": [
       "<Figure size 1440x432 with 8 Axes>"
      ]
     },
     "metadata": {
      "needs_background": "light"
     }
    }
   ],
   "metadata": {}
  },
  {
   "cell_type": "code",
   "execution_count": 202,
   "source": [
    "colormap = {'Sign Top': 'blue', 'Sign Bottom': 'green'}\n",
    "data_top_hel = data_with_fonts[(data_with_fonts['condition']== 'Sign Top') &  (data_with_fonts['font']== 'Helvetica')]\n",
    "plt.figure(figsize=(10, 10), dpi=80)\n",
    "plt.scatter(np.log(data_top_hel['baseline_motorcycle1']), np.log(data_top_hel['update_motorcycle1']-data_top_hel['baseline_motorcycle1']), color= 'r')\n",
    "plt.xlabel('baseline1')\n",
    "plt.ylabel('update1 - baseline1')\n",
    "plt.title('helvetica signed top')"
   ],
   "outputs": [
    {
     "output_type": "execute_result",
     "data": {
      "text/plain": [
       "Text(0.5, 1.0, 'helvetica signed top')"
      ]
     },
     "metadata": {},
     "execution_count": 202
    },
    {
     "output_type": "display_data",
     "data": {
      "image/png": "[encoded data removed]",
      "text/plain": [
       "<Figure size 800x800 with 1 Axes>"
      ]
     },
     "metadata": {
      "needs_background": "light"
     }
    }
   ],
   "metadata": {}
  },
  {
   "cell_type": "code",
   "execution_count": 201,
   "source": [
    "plt.figure(figsize=(10, 10), dpi=80)\n",
    "plt.scatter(np.log(data['baseline_motorcycle1']), np.log(data['update_motorcycle1']-data['baseline_motorcycle1']))\n",
    "plt.xlabel('baseline1')\n",
    "plt.ylabel('update1 - baseline1')\n",
    "plt.title('all data')"
   ],
   "outputs": [
    {
     "output_type": "stream",
     "name": "stderr",
     "text": [
      "/home/ubuntu/.local/lib/python3.8/site-packages/pandas/core/arraylike.py:364: RuntimeWarning: divide by zero encountered in log\n",
      "  result = getattr(ufunc, method)(*inputs, **kwargs)\n"
     ]
    },
    {
     "output_type": "execute_result",
     "data": {
      "text/plain": [
       "Text(0.5, 1.0, 'all data')"
      ]
     },
     "metadata": {},
     "execution_count": 201
    },
    {
     "output_type": "display_data",
     "data": {
      "image/png": "[encoded data removed]",
      "text/plain": [
       "<Figure size 800x800 with 1 Axes>"
      ]
     },
     "metadata": {
      "needs_background": "light"
     }
    }
   ],
   "metadata": {}
  },
  {
   "cell_type": "code",
   "execution_count": null,
   "source": [],
   "outputs": [],
   "metadata": {}
  }
 ],
 "metadata": {
  "interpreter": {
   "hash": "916dbcbb3f70747c44a77c7bcd40155683ae19c65e1c03b4aa3499c5328201f1"
  },
  "kernelspec": {
   "name": "python3",
   "display_name": "Python 3.8.10 64-bit"
  },
  "language_info": {
   "codemirror_mode": {
    "name": "ipython",
    "version": 3
   },
   "file_extension": ".py",
   "mimetype": "text/x-python",
   "name": "python",
   "nbconvert_exporter": "python",
   "pygments_lexer": "ipython3",
   "version": "3.8.10"
  },
  "pycharm": {
   "stem_cell": {
    "cell_type": "raw",
    "metadata": {
     "collapsed": false
    },
    "source": []
   }
  }
 },
 "nbformat": 4,
 "nbformat_minor": 1
}